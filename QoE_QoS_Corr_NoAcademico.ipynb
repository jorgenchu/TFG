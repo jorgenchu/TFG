{
 "cells": [
  {
   "cell_type": "markdown",
   "metadata": {},
   "source": [
    "# Modelo de correlación QoE - NP para la gestión de QoS\n",
    "\n"
   ]
  },
  {
   "cell_type": "markdown",
   "metadata": {},
   "source": [
    "### Importar librerías"
   ]
  },
  {
   "cell_type": "code",
   "execution_count": 130,
   "metadata": {},
   "outputs": [],
   "source": [
    "# Análisis de los datos \n",
    "import csv\n",
    "import pandas as pd\n",
    "import numpy as np\n",
    "import random as rnd #utilizada para obtener números aleatorios\n",
    "\n",
    "# Visualización de los datos \n",
    "\n",
    "import seaborn as sns\n",
    "import matplotlib.pyplot as plt\n",
    "\n",
    "#scikit-Learn\n",
    "from sklearn.tree import DecisionTreeClassifier\n",
    "from sklearn.model_selection import train_test_split\n",
    "from sklearn.metrics import r2_score\n",
    "from sklearn import tree\n",
    "\n",
    "\n",
    "%matplotlib inline\n"
   ]
  },
  {
   "cell_type": "markdown",
   "metadata": {},
   "source": [
    "### Lectura de los datos"
   ]
  },
  {
   "cell_type": "code",
   "execution_count": 131,
   "metadata": {},
   "outputs": [],
   "source": [
    "#Access Points\n",
    "client_df = pd.read_csv('DIT Client.csv') \n",
    "client_traffic_df = pd.read_csv('DIT Client Traffic.csv')\n",
    "traffic_df = pd.read_csv('DIT AP Traffic.csv')\n",
    "traffic_class_df = pd.read_csv('DIT AP Traffic Class.csv')\n",
    "\n",
    "#Encuestas\n",
    "encuestas_df = pd.read_excel('ALL_DIT_WiFi Quality Survey.xlsx')"
   ]
  },
  {
   "cell_type": "markdown",
   "metadata": {},
   "source": [
    "### Filtrado fechas encuestas con DIT Client"
   ]
  },
  {
   "cell_type": "markdown",
   "metadata": {},
   "source": [
    "A continuación, se obtendrán las fechas en la que los clientes realizarón sus encuestas para filtrarlo en DIT_client (client_df) "
   ]
  },
  {
   "cell_type": "code",
   "execution_count": 132,
   "metadata": {},
   "outputs": [
    {
     "data": {
      "text/html": [
       "<div>\n",
       "<style scoped>\n",
       "    .dataframe tbody tr th:only-of-type {\n",
       "        vertical-align: middle;\n",
       "    }\n",
       "\n",
       "    .dataframe tbody tr th {\n",
       "        vertical-align: top;\n",
       "    }\n",
       "\n",
       "    .dataframe thead th {\n",
       "        text-align: right;\n",
       "    }\n",
       "</style>\n",
       "<table border=\"1\" class=\"dataframe\">\n",
       "  <thead>\n",
       "    <tr style=\"text-align: right;\">\n",
       "      <th></th>\n",
       "      <th>client_id</th>\n",
       "      <th>client_mac</th>\n",
       "      <th>updated_at</th>\n",
       "      <th>created_at</th>\n",
       "    </tr>\n",
       "  </thead>\n",
       "  <tbody>\n",
       "    <tr>\n",
       "      <th>0</th>\n",
       "      <td>640</td>\n",
       "      <td>00:27:10:xx:xx:b8</td>\n",
       "      <td>2018-05-26 15:11:13</td>\n",
       "      <td>2015-01-31 08:07:50</td>\n",
       "    </tr>\n",
       "    <tr>\n",
       "      <th>1</th>\n",
       "      <td>848</td>\n",
       "      <td>78:7e:61:xx:xx:fa</td>\n",
       "      <td>2018-05-28 10:27:36</td>\n",
       "      <td>2015-02-05 08:36:45</td>\n",
       "    </tr>\n",
       "    <tr>\n",
       "      <th>2</th>\n",
       "      <td>932</td>\n",
       "      <td>d8:96:95:xx:xx:3d</td>\n",
       "      <td>2018-05-23 08:51:27</td>\n",
       "      <td>2015-02-06 17:13:47</td>\n",
       "    </tr>\n",
       "    <tr>\n",
       "      <th>3</th>\n",
       "      <td>985</td>\n",
       "      <td>20:c9:d0:xx:xx:5d</td>\n",
       "      <td>2018-05-29 16:11:27</td>\n",
       "      <td>2015-02-08 14:41:39</td>\n",
       "    </tr>\n",
       "    <tr>\n",
       "      <th>4</th>\n",
       "      <td>1038</td>\n",
       "      <td>a4:db:30:xx:xx:21</td>\n",
       "      <td>2018-05-29 18:01:45</td>\n",
       "      <td>2015-02-10 09:45:25</td>\n",
       "    </tr>\n",
       "    <tr>\n",
       "      <th>...</th>\n",
       "      <td>...</td>\n",
       "      <td>...</td>\n",
       "      <td>...</td>\n",
       "      <td>...</td>\n",
       "    </tr>\n",
       "    <tr>\n",
       "      <th>4671</th>\n",
       "      <td>571990</td>\n",
       "      <td>24:0d:c2:xx:xx:8c</td>\n",
       "      <td>2018-05-30 11:16:13</td>\n",
       "      <td>2018-05-30 11:14:54</td>\n",
       "    </tr>\n",
       "    <tr>\n",
       "      <th>4672</th>\n",
       "      <td>571991</td>\n",
       "      <td>24:18:1d:xx:xx:b6</td>\n",
       "      <td>2018-05-30 11:16:14</td>\n",
       "      <td>2018-05-30 11:16:14</td>\n",
       "    </tr>\n",
       "    <tr>\n",
       "      <th>4673</th>\n",
       "      <td>571992</td>\n",
       "      <td>30:10:b3:xx:xx:02</td>\n",
       "      <td>2018-05-30 11:17:14</td>\n",
       "      <td>2018-05-30 11:17:14</td>\n",
       "    </tr>\n",
       "    <tr>\n",
       "      <th>4674</th>\n",
       "      <td>571993</td>\n",
       "      <td>64:db:43:xx:xx:f3</td>\n",
       "      <td>2018-05-30 11:17:54</td>\n",
       "      <td>2018-05-30 11:17:18</td>\n",
       "    </tr>\n",
       "    <tr>\n",
       "      <th>4675</th>\n",
       "      <td>571994</td>\n",
       "      <td>34:23:87:xx:xx:d6</td>\n",
       "      <td>2018-05-30 11:19:12</td>\n",
       "      <td>2018-05-30 11:18:32</td>\n",
       "    </tr>\n",
       "  </tbody>\n",
       "</table>\n",
       "<p>4676 rows × 4 columns</p>\n",
       "</div>"
      ],
      "text/plain": [
       "      client_id         client_mac           updated_at           created_at\n",
       "0           640  00:27:10:xx:xx:b8  2018-05-26 15:11:13  2015-01-31 08:07:50\n",
       "1           848  78:7e:61:xx:xx:fa  2018-05-28 10:27:36  2015-02-05 08:36:45\n",
       "2           932  d8:96:95:xx:xx:3d  2018-05-23 08:51:27  2015-02-06 17:13:47\n",
       "3           985  20:c9:d0:xx:xx:5d  2018-05-29 16:11:27  2015-02-08 14:41:39\n",
       "4          1038  a4:db:30:xx:xx:21  2018-05-29 18:01:45  2015-02-10 09:45:25\n",
       "...         ...                ...                  ...                  ...\n",
       "4671     571990  24:0d:c2:xx:xx:8c  2018-05-30 11:16:13  2018-05-30 11:14:54\n",
       "4672     571991  24:18:1d:xx:xx:b6  2018-05-30 11:16:14  2018-05-30 11:16:14\n",
       "4673     571992  30:10:b3:xx:xx:02  2018-05-30 11:17:14  2018-05-30 11:17:14\n",
       "4674     571993  64:db:43:xx:xx:f3  2018-05-30 11:17:54  2018-05-30 11:17:18\n",
       "4675     571994  34:23:87:xx:xx:d6  2018-05-30 11:19:12  2018-05-30 11:18:32\n",
       "\n",
       "[4676 rows x 4 columns]"
      ]
     },
     "execution_count": 132,
     "metadata": {},
     "output_type": "execute_result"
    }
   ],
   "source": [
    "client_df"
   ]
  },
  {
   "cell_type": "code",
   "execution_count": 133,
   "metadata": {},
   "outputs": [
    {
     "name": "stdout",
     "output_type": "stream",
     "text": [
      "La fecha máxima es  2018-05-24 15:00:51\n",
      "La fecha mínima es  2018-05-03 00:48:51\n"
     ]
    }
   ],
   "source": [
    "fechas_encuestas = pd.DataFrame()\n",
    "fechas_encuestas['Start Date'] = encuestas_df['Start Date']\n",
    "#eliminamos primera fila, ya que no contiene información relevante\n",
    "fechas_encuestas = fechas_encuestas.drop([0], axis=0)\n",
    "#Obtenemos la fecha máxima y la fecha mínima\n",
    "fecha_max = fechas_encuestas[\"Start Date\"].max()\n",
    "fecha_min = fechas_encuestas[\"Start Date\"].min()\n",
    "\n",
    "print(\"La fecha máxima es \", fecha_max )\n",
    "print(\"La fecha mínima es \", fecha_min )"
   ]
  },
  {
   "cell_type": "code",
   "execution_count": 134,
   "metadata": {},
   "outputs": [
    {
     "name": "stdout",
     "output_type": "stream",
     "text": [
      "registros sin el filtrado: 4676\n",
      "registros con el filtrado: 3583\n"
     ]
    }
   ],
   "source": [
    "#Como los datos de la columna 'created_at' son de tipo string, en necesario pasarlo a formato datetime\n",
    "client_df['created_at'] = pd.to_datetime(client_df['created_at'])\n",
    " #que hacer con updated_at??\n",
    "#se elimina la columna de client_mac\n",
    "client_nuevo = client_df.drop(['client_mac'], axis = 1)\n",
    "\n",
    "#––––––––––––––––––––––––––––––––––––––––––––––––––––––––––\n",
    "# FILTRADO DE LAS FECHAS\n",
    "client_df_filtrado = client_nuevo[(client_nuevo['created_at'] >= fecha_min) & (client_nuevo['created_at'] < fecha_max)]\n",
    "#––––––––––––––––––––––––––––––––––––––––––––––––––––––––––\n",
    "#Contabilización de registros\n",
    "reg_nofi = len(client_nuevo.axes[0])\n",
    "reg_fi = len(client_df_filtrado.axes[0])\n",
    "print(\"registros sin el filtrado:\", reg_nofi)\n",
    "print(\"registros con el filtrado:\", reg_fi)\n"
   ]
  },
  {
   "cell_type": "markdown",
   "metadata": {},
   "source": [
    "Con el filtrado se ha pasado de  4676 registros a 3583"
   ]
  },
  {
   "cell_type": "markdown",
   "metadata": {},
   "source": [
    "### Filtrado de los clientes en DIT AP Cliente Traffic y filtrado de fechas"
   ]
  },
  {
   "cell_type": "code",
   "execution_count": 135,
   "metadata": {},
   "outputs": [
    {
     "name": "stdout",
     "output_type": "stream",
     "text": [
      "Número de filas de tráfico de clientes sin filtrar: 44779\n",
      "Número de filas filtrando el tráfico de clientes (id_Client): 37589\n"
     ]
    }
   ],
   "source": [
    "#Se almacenan los valores de los clients_id en un nuevo DataFrame\n",
    "client_id = pd.DataFrame()\n",
    "client_id['client_id'] = client_df_filtrado['client_id']\n",
    "#se filtran los datos con dit_Client_traffic\n",
    "client_traffic_filtrado = client_traffic_df[client_traffic_df['client_id'].isin(client_id['client_id'])]\n",
    "\n",
    "\n",
    "\n",
    "client_traf = len(client_traffic_df.axes[0])\n",
    "reg_traf_cli_fil = len(client_traffic_filtrado.axes[0])\n",
    "print(\"Número de filas de tráfico de clientes sin filtrar:\", client_traf)\n",
    "print(\"Número de filas filtrando el tráfico de clientes (id_Client):\", reg_traf_cli_fil)\n",
    "\n",
    "\n"
   ]
  },
  {
   "cell_type": "code",
   "execution_count": 136,
   "metadata": {},
   "outputs": [
    {
     "name": "stderr",
     "output_type": "stream",
     "text": [
      "/var/folders/r3/0qq4pc094kd5l8rzn5qsn__w0000gn/T/ipykernel_5473/1786447437.py:1: FutureWarning: Dropping of nuisance columns in DataFrame reductions (with 'numeric_only=None') is deprecated; in a future version this will raise TypeError.  Select only valid columns before calling the reduction.\n",
      "  client_traffic_df.var()\n"
     ]
    },
    {
     "data": {
      "text/plain": [
       "client_traffic_id           1.425057e+09\n",
       "client_id                   2.583334e+10\n",
       "client_whitelist_id                  NaN\n",
       "bssid_id                    2.705084e+06\n",
       "ap_whitelist_id             3.546923e+01\n",
       "monitor_radio_id            1.861206e+02\n",
       "posted_data_id              6.064841e+10\n",
       "channel                     3.487574e+02\n",
       "managed_client              0.000000e+00\n",
       "encrypted                   2.382816e-01\n",
       "rss                         1.250126e+02\n",
       "transmission_rate           3.413278e+02\n",
       "reception_rate              1.173163e+03\n",
       "bandwidth_economy_tx        4.687049e+03\n",
       "bandwidth_economy_rx        2.263232e+04\n",
       "throughput_tx               8.244439e-02\n",
       "throughput_rx               9.959447e-02\n",
       "frames_tx_data              3.188828e+05\n",
       "frames_tx_fail_data         2.247388e+06\n",
       "frames_rx_data              1.053442e+06\n",
       "frames_rx_fail_data         5.448119e+08\n",
       "frames_rx_mgnt              5.638933e+01\n",
       "frames_rx_ctrl              4.840376e+05\n",
       "fer_tx_data                          NaN\n",
       "fer_rx_data                          NaN\n",
       "bw_tx_data_mgnt             3.456086e-05\n",
       "bw_tx_fail                           NaN\n",
       "bytes_rx_data               2.716836e+12\n",
       "probe_request                        NaN\n",
       "authentication_request               NaN\n",
       "deauthentication_request             NaN\n",
       "association_request                  NaN\n",
       "reassociation_request                NaN\n",
       "dissociation_request                 NaN\n",
       "dtype: float64"
      ]
     },
     "execution_count": 136,
     "metadata": {},
     "output_type": "execute_result"
    }
   ],
   "source": [
    "client_traffic_df.var()"
   ]
  },
  {
   "cell_type": "code",
   "execution_count": 137,
   "metadata": {},
   "outputs": [],
   "source": [
    "#se filtran las fechas\n",
    "fech = client_traffic_filtrado['created_at'][3]\n",
    "type(fech)\n",
    "##\n",
    "# Se cambian los valores de created_at de str a DateTime \n",
    "client_traffic_filtrado1 = client_traffic_filtrado.copy()\n",
    "client_traffic_filtrado1['created_at'] = pd.to_datetime(client_traffic_filtrado['created_at'])\n",
    "##\n",
    "#Filtrado por fechas\n",
    "client_traffic_filtrado_fecha1 = client_traffic_filtrado1[(client_traffic_filtrado1['created_at'] >= fecha_min) & (client_traffic_filtrado1['created_at'] < fecha_max)]\n",
    "\n"
   ]
  },
  {
   "cell_type": "code",
   "execution_count": 138,
   "metadata": {},
   "outputs": [
    {
     "name": "stdout",
     "output_type": "stream",
     "text": [
      "Número de filas de tráfico de clientes sin filtrar: 44779\n",
      "Número de filas filtrando el tráfico de clientes (id_Client): 37589\n",
      "Número de filas de tráfico de clientes filtrado con fecha: 21481\n"
     ]
    }
   ],
   "source": [
    "\n",
    "#Comprobacion de registros\n",
    "client_traf_ff = len(client_traffic_filtrado_fecha1.axes[0])\n",
    "reg_traf_cli_fil = len(client_traffic_filtrado.axes[0])\n",
    "\n",
    "print(\"Número de filas de tráfico de clientes sin filtrar:\", client_traf)\n",
    "print(\"Número de filas filtrando el tráfico de clientes (id_Client):\", reg_traf_cli_fil)\n",
    "print(\"Número de filas de tráfico de clientes filtrado con fecha:\", client_traf_ff)"
   ]
  },
  {
   "cell_type": "markdown",
   "metadata": {},
   "source": [
    "Número de filas de tráfico de clientes sin filtrar: 44779\n",
    "\n",
    "Número de filas filtrando el tráfico de clientes (id_Client): 37589\n",
    "\n",
    "Número de filas de tráfico de clientes filtrado con fecha: 21481"
   ]
  },
  {
   "cell_type": "markdown",
   "metadata": {},
   "source": [
    "### Limpiado de datos"
   ]
  },
  {
   "cell_type": "code",
   "execution_count": 139,
   "metadata": {},
   "outputs": [],
   "source": [
    "#traffic_cli_lim = client_traffic_filtrado_fecha1[['ssid','channel','transmission_rate','reception_rate','bandwidth_economy_tx']].copy()\n",
    "traffic_cli_lim = client_traffic_filtrado_fecha1[['ssid','channel','transmission_rate','reception_rate','bandwidth_economy_tx','bandwidth_economy_rx','throughput_tx','throughput_rx','frames_tx_data','frames_tx_fail_data','frames_rx_data','frames_rx_fail_data','bytes_rx_data','created_at']].copy()\n"
   ]
  },
  {
   "cell_type": "code",
   "execution_count": 140,
   "metadata": {},
   "outputs": [
    {
     "name": "stderr",
     "output_type": "stream",
     "text": [
      "/var/folders/r3/0qq4pc094kd5l8rzn5qsn__w0000gn/T/ipykernel_5473/1529222667.py:2: FutureWarning: Dropping of nuisance columns in DataFrame reductions (with 'numeric_only=None') is deprecated; in a future version this will raise TypeError.  Select only valid columns before calling the reduction.\n",
      "  traffic_cli_lim.var()\n"
     ]
    },
    {
     "data": {
      "text/plain": [
       "channel                 3.669006e+02\n",
       "transmission_rate       3.749447e+02\n",
       "reception_rate          1.210317e+03\n",
       "bandwidth_economy_tx    6.157785e+03\n",
       "bandwidth_economy_rx    3.028799e+04\n",
       "throughput_tx           1.854618e-03\n",
       "throughput_rx           1.326168e-01\n",
       "frames_tx_data          3.614300e+05\n",
       "frames_tx_fail_data     2.144070e+06\n",
       "frames_rx_data          1.072624e+06\n",
       "frames_rx_fail_data     7.758879e+08\n",
       "bytes_rx_data           2.732944e+12\n",
       "dtype: float64"
      ]
     },
     "execution_count": 140,
     "metadata": {},
     "output_type": "execute_result"
    }
   ],
   "source": [
    "#varianza\n",
    "traffic_cli_lim.var()"
   ]
  },
  {
   "cell_type": "markdown",
   "metadata": {},
   "source": [
    "### Tratamiento datos encuestas"
   ]
  },
  {
   "cell_type": "code",
   "execution_count": 141,
   "metadata": {},
   "outputs": [
    {
     "data": {
      "text/html": [
       "<div>\n",
       "<style scoped>\n",
       "    .dataframe tbody tr th:only-of-type {\n",
       "        vertical-align: middle;\n",
       "    }\n",
       "\n",
       "    .dataframe tbody tr th {\n",
       "        vertical-align: top;\n",
       "    }\n",
       "\n",
       "    .dataframe thead th {\n",
       "        text-align: right;\n",
       "    }\n",
       "</style>\n",
       "<table border=\"1\" class=\"dataframe\">\n",
       "  <thead>\n",
       "    <tr style=\"text-align: right;\">\n",
       "      <th></th>\n",
       "      <th>Start Date</th>\n",
       "      <th>Rate the general quality experienced when using this WiFi network1.</th>\n",
       "      <th>Has the WiFi connection, in general, met your requirements and expectations?</th>\n",
       "      <th>Would you be happy to use this WiFi network again?</th>\n",
       "    </tr>\n",
       "  </thead>\n",
       "  <tbody>\n",
       "    <tr>\n",
       "      <th>0</th>\n",
       "      <td>NaT</td>\n",
       "      <td>Rated</td>\n",
       "      <td>Response</td>\n",
       "      <td>Response</td>\n",
       "    </tr>\n",
       "    <tr>\n",
       "      <th>1</th>\n",
       "      <td>2018-05-03 11:33:55</td>\n",
       "      <td>4</td>\n",
       "      <td>5</td>\n",
       "      <td>5</td>\n",
       "    </tr>\n",
       "    <tr>\n",
       "      <th>2</th>\n",
       "      <td>2018-05-03 10:51:49</td>\n",
       "      <td>1</td>\n",
       "      <td>1</td>\n",
       "      <td>2</td>\n",
       "    </tr>\n",
       "    <tr>\n",
       "      <th>3</th>\n",
       "      <td>2018-05-03 09:56:48</td>\n",
       "      <td>2</td>\n",
       "      <td>3</td>\n",
       "      <td>4</td>\n",
       "    </tr>\n",
       "    <tr>\n",
       "      <th>4</th>\n",
       "      <td>2018-05-03 03:42:44</td>\n",
       "      <td>2</td>\n",
       "      <td>3</td>\n",
       "      <td>4</td>\n",
       "    </tr>\n",
       "  </tbody>\n",
       "</table>\n",
       "</div>"
      ],
      "text/plain": [
       "           Start Date  \\\n",
       "0                 NaT   \n",
       "1 2018-05-03 11:33:55   \n",
       "2 2018-05-03 10:51:49   \n",
       "3 2018-05-03 09:56:48   \n",
       "4 2018-05-03 03:42:44   \n",
       "\n",
       "  Rate the general quality experienced when using this WiFi network1.  \\\n",
       "0                                              Rated                    \n",
       "1                                                  4                    \n",
       "2                                                  1                    \n",
       "3                                                  2                    \n",
       "4                                                  2                    \n",
       "\n",
       "  Has the WiFi connection, in general, met your requirements and expectations?  \\\n",
       "0                                           Response                             \n",
       "1                                                  5                             \n",
       "2                                                  1                             \n",
       "3                                                  3                             \n",
       "4                                                  3                             \n",
       "\n",
       "  Would you be happy to use this WiFi network again?  \n",
       "0                                           Response  \n",
       "1                                                  5  \n",
       "2                                                  2  \n",
       "3                                                  4  \n",
       "4                                                  4  "
      ]
     },
     "execution_count": 141,
     "metadata": {},
     "output_type": "execute_result"
    }
   ],
   "source": [
    "encuestas_lim = pd.DataFrame()\n",
    "encuestas_lim = encuestas_df[['Start Date','Rate the general quality experienced when using this WiFi network1.','Has the WiFi connection, in general, met your requirements and expectations?','Would you be happy to use this WiFi network again?']]\n",
    "encuestas_lim.head()"
   ]
  },
  {
   "cell_type": "code",
   "execution_count": 142,
   "metadata": {},
   "outputs": [
    {
     "name": "stderr",
     "output_type": "stream",
     "text": [
      "/var/folders/r3/0qq4pc094kd5l8rzn5qsn__w0000gn/T/ipykernel_5473/1102369965.py:2: FutureWarning: Dropping of nuisance columns in DataFrame reductions (with 'numeric_only=None') is deprecated; in a future version this will raise TypeError.  Select only valid columns before calling the reduction.\n",
      "  encuestas_lim.var()\n"
     ]
    },
    {
     "data": {
      "text/plain": [
       "Rate the general quality experienced when using this WiFi network1.             0.991841\n",
       "Has the WiFi connection, in general, met your requirements and expectations?    1.040460\n",
       "Would you be happy to use this WiFi network again?                              1.006327\n",
       "dtype: float64"
      ]
     },
     "execution_count": 142,
     "metadata": {},
     "output_type": "execute_result"
    }
   ],
   "source": [
    "\n",
    "encuestas_lim = encuestas_lim.drop([0], axis=0)\n",
    "encuestas_lim.var()\n"
   ]
  },
  {
   "cell_type": "code",
   "execution_count": 143,
   "metadata": {},
   "outputs": [
    {
     "data": {
      "text/html": [
       "<div>\n",
       "<style scoped>\n",
       "    .dataframe tbody tr th:only-of-type {\n",
       "        vertical-align: middle;\n",
       "    }\n",
       "\n",
       "    .dataframe tbody tr th {\n",
       "        vertical-align: top;\n",
       "    }\n",
       "\n",
       "    .dataframe thead th {\n",
       "        text-align: right;\n",
       "    }\n",
       "</style>\n",
       "<table border=\"1\" class=\"dataframe\">\n",
       "  <thead>\n",
       "    <tr style=\"text-align: right;\">\n",
       "      <th></th>\n",
       "      <th>Start Date</th>\n",
       "      <th>Rated Wifi QoE</th>\n",
       "      <th>Requirements fulfilled</th>\n",
       "      <th>Repeat</th>\n",
       "    </tr>\n",
       "  </thead>\n",
       "  <tbody>\n",
       "    <tr>\n",
       "      <th>1</th>\n",
       "      <td>2018-05-03 11:33:55</td>\n",
       "      <td>4</td>\n",
       "      <td>5</td>\n",
       "      <td>5</td>\n",
       "    </tr>\n",
       "    <tr>\n",
       "      <th>2</th>\n",
       "      <td>2018-05-03 10:51:49</td>\n",
       "      <td>1</td>\n",
       "      <td>1</td>\n",
       "      <td>2</td>\n",
       "    </tr>\n",
       "    <tr>\n",
       "      <th>3</th>\n",
       "      <td>2018-05-03 09:56:48</td>\n",
       "      <td>2</td>\n",
       "      <td>3</td>\n",
       "      <td>4</td>\n",
       "    </tr>\n",
       "    <tr>\n",
       "      <th>4</th>\n",
       "      <td>2018-05-03 03:42:44</td>\n",
       "      <td>2</td>\n",
       "      <td>3</td>\n",
       "      <td>4</td>\n",
       "    </tr>\n",
       "    <tr>\n",
       "      <th>5</th>\n",
       "      <td>2018-05-03 01:17:30</td>\n",
       "      <td>4</td>\n",
       "      <td>3</td>\n",
       "      <td>3</td>\n",
       "    </tr>\n",
       "  </tbody>\n",
       "</table>\n",
       "</div>"
      ],
      "text/plain": [
       "           Start Date Rated Wifi QoE Requirements fulfilled Repeat\n",
       "1 2018-05-03 11:33:55              4                      5      5\n",
       "2 2018-05-03 10:51:49              1                      1      2\n",
       "3 2018-05-03 09:56:48              2                      3      4\n",
       "4 2018-05-03 03:42:44              2                      3      4\n",
       "5 2018-05-03 01:17:30              4                      3      3"
      ]
     },
     "execution_count": 143,
     "metadata": {},
     "output_type": "execute_result"
    }
   ],
   "source": [
    "encuestas_lim.columns = ['Start Date',\n",
    "       'Rated Wifi QoE',\n",
    "       'Requirements fulfilled',\n",
    "       'Repeat']\n",
    "encuestas_lim.head()"
   ]
  },
  {
   "cell_type": "code",
   "execution_count": 144,
   "metadata": {},
   "outputs": [
    {
     "data": {
      "text/html": [
       "<div>\n",
       "<style scoped>\n",
       "    .dataframe tbody tr th:only-of-type {\n",
       "        vertical-align: middle;\n",
       "    }\n",
       "\n",
       "    .dataframe tbody tr th {\n",
       "        vertical-align: top;\n",
       "    }\n",
       "\n",
       "    .dataframe thead th {\n",
       "        text-align: right;\n",
       "    }\n",
       "</style>\n",
       "<table border=\"1\" class=\"dataframe\">\n",
       "  <thead>\n",
       "    <tr style=\"text-align: right;\">\n",
       "      <th></th>\n",
       "      <th>ssid</th>\n",
       "      <th>channel</th>\n",
       "      <th>transmission_rate</th>\n",
       "      <th>reception_rate</th>\n",
       "      <th>bandwidth_economy_tx</th>\n",
       "      <th>bandwidth_economy_rx</th>\n",
       "      <th>throughput_tx</th>\n",
       "      <th>throughput_rx</th>\n",
       "      <th>frames_tx_data</th>\n",
       "      <th>frames_tx_fail_data</th>\n",
       "      <th>frames_rx_data</th>\n",
       "      <th>frames_rx_fail_data</th>\n",
       "      <th>bytes_rx_data</th>\n",
       "      <th>created_at</th>\n",
       "    </tr>\n",
       "  </thead>\n",
       "  <tbody>\n",
       "    <tr>\n",
       "      <th>0</th>\n",
       "      <td>eduroam</td>\n",
       "      <td>64</td>\n",
       "      <td>24.991</td>\n",
       "      <td>104.459</td>\n",
       "      <td>27.0</td>\n",
       "      <td>170.2</td>\n",
       "      <td>0.000</td>\n",
       "      <td>0.013</td>\n",
       "      <td>78.0</td>\n",
       "      <td>2.0</td>\n",
       "      <td>117.0</td>\n",
       "      <td>21.0</td>\n",
       "      <td>49624.0</td>\n",
       "      <td>2018-05-18 10:11:22</td>\n",
       "    </tr>\n",
       "    <tr>\n",
       "      <th>1</th>\n",
       "      <td>eduroam</td>\n",
       "      <td>64</td>\n",
       "      <td>75.197</td>\n",
       "      <td>78.000</td>\n",
       "      <td>231.7</td>\n",
       "      <td>241.3</td>\n",
       "      <td>0.019</td>\n",
       "      <td>0.061</td>\n",
       "      <td>62.0</td>\n",
       "      <td>5.0</td>\n",
       "      <td>125.0</td>\n",
       "      <td>1.0</td>\n",
       "      <td>230413.0</td>\n",
       "      <td>2018-05-18 10:11:22</td>\n",
       "    </tr>\n",
       "    <tr>\n",
       "      <th>2</th>\n",
       "      <td>eduroam</td>\n",
       "      <td>64</td>\n",
       "      <td>24.000</td>\n",
       "      <td>0.000</td>\n",
       "      <td>26.3</td>\n",
       "      <td>0.0</td>\n",
       "      <td>0.000</td>\n",
       "      <td>0.000</td>\n",
       "      <td>1.0</td>\n",
       "      <td>0.0</td>\n",
       "      <td>0.0</td>\n",
       "      <td>0.0</td>\n",
       "      <td>0.0</td>\n",
       "      <td>2018-05-18 10:11:22</td>\n",
       "    </tr>\n",
       "    <tr>\n",
       "      <th>3</th>\n",
       "      <td>eduroam</td>\n",
       "      <td>64</td>\n",
       "      <td>61.183</td>\n",
       "      <td>65.000</td>\n",
       "      <td>115.3</td>\n",
       "      <td>183.4</td>\n",
       "      <td>0.004</td>\n",
       "      <td>0.007</td>\n",
       "      <td>102.0</td>\n",
       "      <td>0.0</td>\n",
       "      <td>53.0</td>\n",
       "      <td>0.0</td>\n",
       "      <td>26337.0</td>\n",
       "      <td>2018-05-18 10:11:22</td>\n",
       "    </tr>\n",
       "    <tr>\n",
       "      <th>4</th>\n",
       "      <td>ditwifi</td>\n",
       "      <td>64</td>\n",
       "      <td>24.000</td>\n",
       "      <td>0.000</td>\n",
       "      <td>26.3</td>\n",
       "      <td>0.0</td>\n",
       "      <td>0.000</td>\n",
       "      <td>0.000</td>\n",
       "      <td>1.0</td>\n",
       "      <td>0.0</td>\n",
       "      <td>0.0</td>\n",
       "      <td>0.0</td>\n",
       "      <td>0.0</td>\n",
       "      <td>2018-05-18 10:11:23</td>\n",
       "    </tr>\n",
       "  </tbody>\n",
       "</table>\n",
       "</div>"
      ],
      "text/plain": [
       "      ssid  channel  transmission_rate  reception_rate  bandwidth_economy_tx  \\\n",
       "0  eduroam       64             24.991         104.459                  27.0   \n",
       "1  eduroam       64             75.197          78.000                 231.7   \n",
       "2  eduroam       64             24.000           0.000                  26.3   \n",
       "3  eduroam       64             61.183          65.000                 115.3   \n",
       "4  ditwifi       64             24.000           0.000                  26.3   \n",
       "\n",
       "   bandwidth_economy_rx  throughput_tx  throughput_rx  frames_tx_data  \\\n",
       "0                 170.2          0.000          0.013            78.0   \n",
       "1                 241.3          0.019          0.061            62.0   \n",
       "2                   0.0          0.000          0.000             1.0   \n",
       "3                 183.4          0.004          0.007           102.0   \n",
       "4                   0.0          0.000          0.000             1.0   \n",
       "\n",
       "   frames_tx_fail_data  frames_rx_data  frames_rx_fail_data  bytes_rx_data  \\\n",
       "0                  2.0           117.0                 21.0        49624.0   \n",
       "1                  5.0           125.0                  1.0       230413.0   \n",
       "2                  0.0             0.0                  0.0            0.0   \n",
       "3                  0.0            53.0                  0.0        26337.0   \n",
       "4                  0.0             0.0                  0.0            0.0   \n",
       "\n",
       "           created_at  \n",
       "0 2018-05-18 10:11:22  \n",
       "1 2018-05-18 10:11:22  \n",
       "2 2018-05-18 10:11:22  \n",
       "3 2018-05-18 10:11:22  \n",
       "4 2018-05-18 10:11:23  "
      ]
     },
     "execution_count": 144,
     "metadata": {},
     "output_type": "execute_result"
    }
   ],
   "source": [
    "traffic_cli_lim.head()\n"
   ]
  },
  {
   "cell_type": "code",
   "execution_count": 145,
   "metadata": {},
   "outputs": [
    {
     "data": {
      "image/png": "[encoded data removed]",
      "text/plain": [
       "<Figure size 432x288 with 1 Axes>"
      ]
     },
     "metadata": {},
     "output_type": "display_data"
    },
    {
     "data": {
      "image/png": "[encoded data removed]",
      "text/plain": [
       "<Figure size 432x288 with 1 Axes>"
      ]
     },
     "metadata": {},
     "output_type": "display_data"
    }
   ],
   "source": [
    "sns.set(style=\"darkgrid\")\n",
    "plt.title(\"Rated Wifi QoE\")\n",
    "sns.histplot( data = encuestas_lim, x = \"Rated Wifi QoE\", discrete=True)\n",
    "plt.show()\n",
    "plt.title(\"Requirements fulfilled\")\n",
    "sns.histplot( data = encuestas_lim, x = \"Requirements fulfilled\",discrete=True)\n",
    "plt.show()\n"
   ]
  },
  {
   "cell_type": "code",
   "execution_count": 146,
   "metadata": {},
   "outputs": [
    {
     "name": "stderr",
     "output_type": "stream",
     "text": [
      "/opt/anaconda3/lib/python3.9/site-packages/seaborn/distributions.py:2619: FutureWarning: `distplot` is a deprecated function and will be removed in a future version. Please adapt your code to use either `displot` (a figure-level function with similar flexibility) or `histplot` (an axes-level function for histograms).\n",
      "  warnings.warn(msg, FutureWarning)\n"
     ]
    },
    {
     "data": {
      "text/plain": [
       "<AxesSubplot:xlabel='throughput_tx', ylabel='Density'>"
      ]
     },
     "execution_count": 146,
     "metadata": {},
     "output_type": "execute_result"
    },
    {
     "data": {
      "image/png": "[encoded data removed]",
      "text/plain": [
       "<Figure size 432x288 with 1 Axes>"
      ]
     },
     "metadata": {},
     "output_type": "display_data"
    }
   ],
   "source": [
    "from seaborn import distplot\n",
    "distplot(traffic_cli_lim.throughput_tx)"
   ]
  },
  {
   "cell_type": "markdown",
   "metadata": {},
   "source": [
    "## Calculo de porcentajes en las encuestas"
   ]
  },
  {
   "cell_type": "markdown",
   "metadata": {},
   "source": [
    "### Nueva columna con los datos de Rated QoE\n"
   ]
  },
  {
   "cell_type": "markdown",
   "metadata": {},
   "source": [
    "A continuación, se obtendrá el porcentaje de los valores elegidos por los usuarios de la QoE"
   ]
  },
  {
   "cell_type": "code",
   "execution_count": 147,
   "metadata": {},
   "outputs": [
    {
     "data": {
      "text/html": [
       "<div>\n",
       "<style scoped>\n",
       "    .dataframe tbody tr th:only-of-type {\n",
       "        vertical-align: middle;\n",
       "    }\n",
       "\n",
       "    .dataframe tbody tr th {\n",
       "        vertical-align: top;\n",
       "    }\n",
       "\n",
       "    .dataframe thead th {\n",
       "        text-align: right;\n",
       "    }\n",
       "</style>\n",
       "<table border=\"1\" class=\"dataframe\">\n",
       "  <thead>\n",
       "    <tr style=\"text-align: right;\">\n",
       "      <th></th>\n",
       "      <th>rated</th>\n",
       "      <th>valores</th>\n",
       "    </tr>\n",
       "  </thead>\n",
       "  <tbody>\n",
       "    <tr>\n",
       "      <th>1</th>\n",
       "      <td>1</td>\n",
       "      <td>0.076923</td>\n",
       "    </tr>\n",
       "    <tr>\n",
       "      <th>2</th>\n",
       "      <td>2</td>\n",
       "      <td>0.192308</td>\n",
       "    </tr>\n",
       "    <tr>\n",
       "      <th>3</th>\n",
       "      <td>3</td>\n",
       "      <td>0.320513</td>\n",
       "    </tr>\n",
       "    <tr>\n",
       "      <th>4</th>\n",
       "      <td>4</td>\n",
       "      <td>0.384615</td>\n",
       "    </tr>\n",
       "    <tr>\n",
       "      <th>5</th>\n",
       "      <td>5</td>\n",
       "      <td>0.025641</td>\n",
       "    </tr>\n",
       "  </tbody>\n",
       "</table>\n",
       "</div>"
      ],
      "text/plain": [
       "   rated   valores\n",
       "1      1  0.076923\n",
       "2      2  0.192308\n",
       "3      3  0.320513\n",
       "4      4  0.384615\n",
       "5      5  0.025641"
      ]
     },
     "execution_count": 147,
     "metadata": {},
     "output_type": "execute_result"
    }
   ],
   "source": [
    "frecuencia_qoe = pd.DataFrame()\n",
    "frecuencia_qoe['valores'] = encuestas_lim['Rated Wifi QoE'].value_counts(normalize=True)\n",
    "frecuencia_qoe['rated'] = frecuencia_qoe.index\n",
    "frecuencia_qoe = frecuencia_qoe.reindex(columns =['rated', 'valores'])\n",
    "frecuencia_qoe=frecuencia_qoe.sort_values(by='rated')\n",
    "frecuencia_qoe\n",
    "\n"
   ]
  },
  {
   "cell_type": "markdown",
   "metadata": {},
   "source": [
    "Creamos nueva columna al dataframe Traffic_cli_lim y eliminamos los outliers"
   ]
  },
  {
   "cell_type": "code",
   "execution_count": 148,
   "metadata": {},
   "outputs": [],
   "source": [
    "q_low = traffic_cli_lim[\"throughput_tx\"].quantile(0.01)\n",
    "q_hi  = traffic_cli_lim[\"throughput_tx\"].quantile(0.99)\n",
    "\n",
    "traffic_cli_lim = traffic_cli_lim[(traffic_cli_lim[\"throughput_tx\"] < q_hi) & (traffic_cli_lim[\"throughput_tx\"] > q_low)]"
   ]
  },
  {
   "cell_type": "code",
   "execution_count": 149,
   "metadata": {},
   "outputs": [
    {
     "data": {
      "text/html": [
       "<div>\n",
       "<style scoped>\n",
       "    .dataframe tbody tr th:only-of-type {\n",
       "        vertical-align: middle;\n",
       "    }\n",
       "\n",
       "    .dataframe tbody tr th {\n",
       "        vertical-align: top;\n",
       "    }\n",
       "\n",
       "    .dataframe thead th {\n",
       "        text-align: right;\n",
       "    }\n",
       "</style>\n",
       "<table border=\"1\" class=\"dataframe\">\n",
       "  <thead>\n",
       "    <tr style=\"text-align: right;\">\n",
       "      <th></th>\n",
       "      <th>ssid</th>\n",
       "      <th>channel</th>\n",
       "      <th>transmission_rate</th>\n",
       "      <th>reception_rate</th>\n",
       "      <th>bandwidth_economy_tx</th>\n",
       "      <th>bandwidth_economy_rx</th>\n",
       "      <th>throughput_tx</th>\n",
       "      <th>throughput_rx</th>\n",
       "      <th>frames_tx_data</th>\n",
       "      <th>frames_tx_fail_data</th>\n",
       "      <th>frames_rx_data</th>\n",
       "      <th>frames_rx_fail_data</th>\n",
       "      <th>bytes_rx_data</th>\n",
       "      <th>created_at</th>\n",
       "      <th>Rated</th>\n",
       "    </tr>\n",
       "  </thead>\n",
       "  <tbody>\n",
       "    <tr>\n",
       "      <th>7924</th>\n",
       "      <td>eir16775415</td>\n",
       "      <td>3</td>\n",
       "      <td>1.071</td>\n",
       "      <td>NaN</td>\n",
       "      <td>NaN</td>\n",
       "      <td>NaN</td>\n",
       "      <td>0.001</td>\n",
       "      <td>0.000</td>\n",
       "      <td>NaN</td>\n",
       "      <td>NaN</td>\n",
       "      <td>NaN</td>\n",
       "      <td>NaN</td>\n",
       "      <td>NaN</td>\n",
       "      <td>2018-05-22 06:14:48</td>\n",
       "      <td>None</td>\n",
       "    </tr>\n",
       "    <tr>\n",
       "      <th>7960</th>\n",
       "      <td>eir16775415</td>\n",
       "      <td>3</td>\n",
       "      <td>1.000</td>\n",
       "      <td>NaN</td>\n",
       "      <td>NaN</td>\n",
       "      <td>NaN</td>\n",
       "      <td>0.001</td>\n",
       "      <td>0.000</td>\n",
       "      <td>NaN</td>\n",
       "      <td>NaN</td>\n",
       "      <td>NaN</td>\n",
       "      <td>NaN</td>\n",
       "      <td>NaN</td>\n",
       "      <td>2018-05-22 06:31:31</td>\n",
       "      <td>None</td>\n",
       "    </tr>\n",
       "    <tr>\n",
       "      <th>7972</th>\n",
       "      <td>STARBUCKS-FREE-WIFI</td>\n",
       "      <td>1</td>\n",
       "      <td>3.386</td>\n",
       "      <td>NaN</td>\n",
       "      <td>NaN</td>\n",
       "      <td>NaN</td>\n",
       "      <td>0.002</td>\n",
       "      <td>0.000</td>\n",
       "      <td>NaN</td>\n",
       "      <td>NaN</td>\n",
       "      <td>NaN</td>\n",
       "      <td>NaN</td>\n",
       "      <td>NaN</td>\n",
       "      <td>2018-05-22 06:37:22</td>\n",
       "      <td>None</td>\n",
       "    </tr>\n",
       "    <tr>\n",
       "      <th>8063</th>\n",
       "      <td>eir92591853</td>\n",
       "      <td>4</td>\n",
       "      <td>1.223</td>\n",
       "      <td>NaN</td>\n",
       "      <td>NaN</td>\n",
       "      <td>NaN</td>\n",
       "      <td>0.003</td>\n",
       "      <td>0.000</td>\n",
       "      <td>NaN</td>\n",
       "      <td>NaN</td>\n",
       "      <td>NaN</td>\n",
       "      <td>NaN</td>\n",
       "      <td>NaN</td>\n",
       "      <td>2018-05-22 07:18:27</td>\n",
       "      <td>None</td>\n",
       "    </tr>\n",
       "    <tr>\n",
       "      <th>8066</th>\n",
       "      <td>eir92591853</td>\n",
       "      <td>4</td>\n",
       "      <td>1.075</td>\n",
       "      <td>NaN</td>\n",
       "      <td>NaN</td>\n",
       "      <td>NaN</td>\n",
       "      <td>0.001</td>\n",
       "      <td>0.000</td>\n",
       "      <td>NaN</td>\n",
       "      <td>NaN</td>\n",
       "      <td>NaN</td>\n",
       "      <td>NaN</td>\n",
       "      <td>NaN</td>\n",
       "      <td>2018-05-22 07:18:33</td>\n",
       "      <td>None</td>\n",
       "    </tr>\n",
       "    <tr>\n",
       "      <th>...</th>\n",
       "      <td>...</td>\n",
       "      <td>...</td>\n",
       "      <td>...</td>\n",
       "      <td>...</td>\n",
       "      <td>...</td>\n",
       "      <td>...</td>\n",
       "      <td>...</td>\n",
       "      <td>...</td>\n",
       "      <td>...</td>\n",
       "      <td>...</td>\n",
       "      <td>...</td>\n",
       "      <td>...</td>\n",
       "      <td>...</td>\n",
       "      <td>...</td>\n",
       "      <td>...</td>\n",
       "    </tr>\n",
       "    <tr>\n",
       "      <th>22678</th>\n",
       "      <td>bell</td>\n",
       "      <td>8</td>\n",
       "      <td>59.916</td>\n",
       "      <td>NaN</td>\n",
       "      <td>NaN</td>\n",
       "      <td>NaN</td>\n",
       "      <td>0.001</td>\n",
       "      <td>0.000</td>\n",
       "      <td>NaN</td>\n",
       "      <td>NaN</td>\n",
       "      <td>NaN</td>\n",
       "      <td>NaN</td>\n",
       "      <td>NaN</td>\n",
       "      <td>2018-05-24 13:37:18</td>\n",
       "      <td>None</td>\n",
       "    </tr>\n",
       "    <tr>\n",
       "      <th>22840</th>\n",
       "      <td>bell</td>\n",
       "      <td>8</td>\n",
       "      <td>45.853</td>\n",
       "      <td>NaN</td>\n",
       "      <td>NaN</td>\n",
       "      <td>NaN</td>\n",
       "      <td>0.003</td>\n",
       "      <td>0.007</td>\n",
       "      <td>NaN</td>\n",
       "      <td>NaN</td>\n",
       "      <td>NaN</td>\n",
       "      <td>NaN</td>\n",
       "      <td>NaN</td>\n",
       "      <td>2018-05-24 14:03:22</td>\n",
       "      <td>None</td>\n",
       "    </tr>\n",
       "    <tr>\n",
       "      <th>23117</th>\n",
       "      <td>RDCC_Guest</td>\n",
       "      <td>1</td>\n",
       "      <td>1.000</td>\n",
       "      <td>NaN</td>\n",
       "      <td>NaN</td>\n",
       "      <td>NaN</td>\n",
       "      <td>0.001</td>\n",
       "      <td>0.000</td>\n",
       "      <td>NaN</td>\n",
       "      <td>NaN</td>\n",
       "      <td>NaN</td>\n",
       "      <td>NaN</td>\n",
       "      <td>NaN</td>\n",
       "      <td>2018-05-24 14:39:43</td>\n",
       "      <td>None</td>\n",
       "    </tr>\n",
       "    <tr>\n",
       "      <th>23167</th>\n",
       "      <td>RDCC_Guest</td>\n",
       "      <td>1</td>\n",
       "      <td>1.574</td>\n",
       "      <td>NaN</td>\n",
       "      <td>NaN</td>\n",
       "      <td>NaN</td>\n",
       "      <td>0.002</td>\n",
       "      <td>0.000</td>\n",
       "      <td>NaN</td>\n",
       "      <td>NaN</td>\n",
       "      <td>NaN</td>\n",
       "      <td>NaN</td>\n",
       "      <td>NaN</td>\n",
       "      <td>2018-05-24 14:47:30</td>\n",
       "      <td>None</td>\n",
       "    </tr>\n",
       "    <tr>\n",
       "      <th>23197</th>\n",
       "      <td>RDCC_Guest</td>\n",
       "      <td>1</td>\n",
       "      <td>1.000</td>\n",
       "      <td>NaN</td>\n",
       "      <td>NaN</td>\n",
       "      <td>NaN</td>\n",
       "      <td>0.001</td>\n",
       "      <td>0.000</td>\n",
       "      <td>NaN</td>\n",
       "      <td>NaN</td>\n",
       "      <td>NaN</td>\n",
       "      <td>NaN</td>\n",
       "      <td>NaN</td>\n",
       "      <td>2018-05-24 14:51:41</td>\n",
       "      <td>None</td>\n",
       "    </tr>\n",
       "  </tbody>\n",
       "</table>\n",
       "<p>519 rows × 15 columns</p>\n",
       "</div>"
      ],
      "text/plain": [
       "                      ssid  channel  transmission_rate  reception_rate  \\\n",
       "7924           eir16775415        3              1.071             NaN   \n",
       "7960           eir16775415        3              1.000             NaN   \n",
       "7972   STARBUCKS-FREE-WIFI        1              3.386             NaN   \n",
       "8063           eir92591853        4              1.223             NaN   \n",
       "8066           eir92591853        4              1.075             NaN   \n",
       "...                    ...      ...                ...             ...   \n",
       "22678                 bell        8             59.916             NaN   \n",
       "22840                 bell        8             45.853             NaN   \n",
       "23117           RDCC_Guest        1              1.000             NaN   \n",
       "23167           RDCC_Guest        1              1.574             NaN   \n",
       "23197           RDCC_Guest        1              1.000             NaN   \n",
       "\n",
       "       bandwidth_economy_tx  bandwidth_economy_rx  throughput_tx  \\\n",
       "7924                    NaN                   NaN          0.001   \n",
       "7960                    NaN                   NaN          0.001   \n",
       "7972                    NaN                   NaN          0.002   \n",
       "8063                    NaN                   NaN          0.003   \n",
       "8066                    NaN                   NaN          0.001   \n",
       "...                     ...                   ...            ...   \n",
       "22678                   NaN                   NaN          0.001   \n",
       "22840                   NaN                   NaN          0.003   \n",
       "23117                   NaN                   NaN          0.001   \n",
       "23167                   NaN                   NaN          0.002   \n",
       "23197                   NaN                   NaN          0.001   \n",
       "\n",
       "       throughput_rx  frames_tx_data  frames_tx_fail_data  frames_rx_data  \\\n",
       "7924           0.000             NaN                  NaN             NaN   \n",
       "7960           0.000             NaN                  NaN             NaN   \n",
       "7972           0.000             NaN                  NaN             NaN   \n",
       "8063           0.000             NaN                  NaN             NaN   \n",
       "8066           0.000             NaN                  NaN             NaN   \n",
       "...              ...             ...                  ...             ...   \n",
       "22678          0.000             NaN                  NaN             NaN   \n",
       "22840          0.007             NaN                  NaN             NaN   \n",
       "23117          0.000             NaN                  NaN             NaN   \n",
       "23167          0.000             NaN                  NaN             NaN   \n",
       "23197          0.000             NaN                  NaN             NaN   \n",
       "\n",
       "       frames_rx_fail_data  bytes_rx_data          created_at Rated  \n",
       "7924                   NaN            NaN 2018-05-22 06:14:48  None  \n",
       "7960                   NaN            NaN 2018-05-22 06:31:31  None  \n",
       "7972                   NaN            NaN 2018-05-22 06:37:22  None  \n",
       "8063                   NaN            NaN 2018-05-22 07:18:27  None  \n",
       "8066                   NaN            NaN 2018-05-22 07:18:33  None  \n",
       "...                    ...            ...                 ...   ...  \n",
       "22678                  NaN            NaN 2018-05-24 13:37:18  None  \n",
       "22840                  NaN            NaN 2018-05-24 14:03:22  None  \n",
       "23117                  NaN            NaN 2018-05-24 14:39:43  None  \n",
       "23167                  NaN            NaN 2018-05-24 14:47:30  None  \n",
       "23197                  NaN            NaN 2018-05-24 14:51:41  None  \n",
       "\n",
       "[519 rows x 15 columns]"
      ]
     },
     "execution_count": 149,
     "metadata": {},
     "output_type": "execute_result"
    }
   ],
   "source": [
    "traffic_cli_lim['Rated'] = None\n",
    "values = [\"eduroam\", \"ditwifi\"]\n",
    "#values = [\"ditwifi\"]\n",
    "#values = [\"eduroam\"]\n",
    "traffic_cli_lim = traffic_cli_lim.drop(traffic_cli_lim[traffic_cli_lim['ssid']==\"ditwifi\"].index)\n",
    "traffic_cli_lim = traffic_cli_lim.drop(traffic_cli_lim[traffic_cli_lim['ssid']==\"eduroam\"].index)\n",
    "traffic_cli_lim"
   ]
  },
  {
   "cell_type": "markdown",
   "metadata": {},
   "source": [
    "rellenamos los Datos NaN"
   ]
  },
  {
   "cell_type": "code",
   "execution_count": 150,
   "metadata": {},
   "outputs": [
    {
     "data": {
      "text/html": [
       "<div>\n",
       "<style scoped>\n",
       "    .dataframe tbody tr th:only-of-type {\n",
       "        vertical-align: middle;\n",
       "    }\n",
       "\n",
       "    .dataframe tbody tr th {\n",
       "        vertical-align: top;\n",
       "    }\n",
       "\n",
       "    .dataframe thead th {\n",
       "        text-align: right;\n",
       "    }\n",
       "</style>\n",
       "<table border=\"1\" class=\"dataframe\">\n",
       "  <thead>\n",
       "    <tr style=\"text-align: right;\">\n",
       "      <th></th>\n",
       "      <th>ssid</th>\n",
       "      <th>channel</th>\n",
       "      <th>transmission_rate</th>\n",
       "      <th>reception_rate</th>\n",
       "      <th>bandwidth_economy_tx</th>\n",
       "      <th>bandwidth_economy_rx</th>\n",
       "      <th>throughput_tx</th>\n",
       "      <th>throughput_rx</th>\n",
       "      <th>frames_tx_data</th>\n",
       "      <th>frames_tx_fail_data</th>\n",
       "      <th>frames_rx_data</th>\n",
       "      <th>frames_rx_fail_data</th>\n",
       "      <th>bytes_rx_data</th>\n",
       "      <th>created_at</th>\n",
       "      <th>Rated</th>\n",
       "    </tr>\n",
       "  </thead>\n",
       "  <tbody>\n",
       "    <tr>\n",
       "      <th>7924</th>\n",
       "      <td>eir16775415</td>\n",
       "      <td>3</td>\n",
       "      <td>1.071</td>\n",
       "      <td>0.0</td>\n",
       "      <td>0.0</td>\n",
       "      <td>0.0</td>\n",
       "      <td>0.001</td>\n",
       "      <td>0.000</td>\n",
       "      <td>0.0</td>\n",
       "      <td>0.0</td>\n",
       "      <td>0.0</td>\n",
       "      <td>0.0</td>\n",
       "      <td>0.0</td>\n",
       "      <td>2018-05-22 06:14:48</td>\n",
       "      <td>0</td>\n",
       "    </tr>\n",
       "    <tr>\n",
       "      <th>7960</th>\n",
       "      <td>eir16775415</td>\n",
       "      <td>3</td>\n",
       "      <td>1.000</td>\n",
       "      <td>0.0</td>\n",
       "      <td>0.0</td>\n",
       "      <td>0.0</td>\n",
       "      <td>0.001</td>\n",
       "      <td>0.000</td>\n",
       "      <td>0.0</td>\n",
       "      <td>0.0</td>\n",
       "      <td>0.0</td>\n",
       "      <td>0.0</td>\n",
       "      <td>0.0</td>\n",
       "      <td>2018-05-22 06:31:31</td>\n",
       "      <td>0</td>\n",
       "    </tr>\n",
       "    <tr>\n",
       "      <th>7972</th>\n",
       "      <td>STARBUCKS-FREE-WIFI</td>\n",
       "      <td>1</td>\n",
       "      <td>3.386</td>\n",
       "      <td>0.0</td>\n",
       "      <td>0.0</td>\n",
       "      <td>0.0</td>\n",
       "      <td>0.002</td>\n",
       "      <td>0.000</td>\n",
       "      <td>0.0</td>\n",
       "      <td>0.0</td>\n",
       "      <td>0.0</td>\n",
       "      <td>0.0</td>\n",
       "      <td>0.0</td>\n",
       "      <td>2018-05-22 06:37:22</td>\n",
       "      <td>0</td>\n",
       "    </tr>\n",
       "    <tr>\n",
       "      <th>8063</th>\n",
       "      <td>eir92591853</td>\n",
       "      <td>4</td>\n",
       "      <td>1.223</td>\n",
       "      <td>0.0</td>\n",
       "      <td>0.0</td>\n",
       "      <td>0.0</td>\n",
       "      <td>0.003</td>\n",
       "      <td>0.000</td>\n",
       "      <td>0.0</td>\n",
       "      <td>0.0</td>\n",
       "      <td>0.0</td>\n",
       "      <td>0.0</td>\n",
       "      <td>0.0</td>\n",
       "      <td>2018-05-22 07:18:27</td>\n",
       "      <td>0</td>\n",
       "    </tr>\n",
       "    <tr>\n",
       "      <th>8066</th>\n",
       "      <td>eir92591853</td>\n",
       "      <td>4</td>\n",
       "      <td>1.075</td>\n",
       "      <td>0.0</td>\n",
       "      <td>0.0</td>\n",
       "      <td>0.0</td>\n",
       "      <td>0.001</td>\n",
       "      <td>0.000</td>\n",
       "      <td>0.0</td>\n",
       "      <td>0.0</td>\n",
       "      <td>0.0</td>\n",
       "      <td>0.0</td>\n",
       "      <td>0.0</td>\n",
       "      <td>2018-05-22 07:18:33</td>\n",
       "      <td>0</td>\n",
       "    </tr>\n",
       "    <tr>\n",
       "      <th>...</th>\n",
       "      <td>...</td>\n",
       "      <td>...</td>\n",
       "      <td>...</td>\n",
       "      <td>...</td>\n",
       "      <td>...</td>\n",
       "      <td>...</td>\n",
       "      <td>...</td>\n",
       "      <td>...</td>\n",
       "      <td>...</td>\n",
       "      <td>...</td>\n",
       "      <td>...</td>\n",
       "      <td>...</td>\n",
       "      <td>...</td>\n",
       "      <td>...</td>\n",
       "      <td>...</td>\n",
       "    </tr>\n",
       "    <tr>\n",
       "      <th>22678</th>\n",
       "      <td>bell</td>\n",
       "      <td>8</td>\n",
       "      <td>59.916</td>\n",
       "      <td>0.0</td>\n",
       "      <td>0.0</td>\n",
       "      <td>0.0</td>\n",
       "      <td>0.001</td>\n",
       "      <td>0.000</td>\n",
       "      <td>0.0</td>\n",
       "      <td>0.0</td>\n",
       "      <td>0.0</td>\n",
       "      <td>0.0</td>\n",
       "      <td>0.0</td>\n",
       "      <td>2018-05-24 13:37:18</td>\n",
       "      <td>0</td>\n",
       "    </tr>\n",
       "    <tr>\n",
       "      <th>22840</th>\n",
       "      <td>bell</td>\n",
       "      <td>8</td>\n",
       "      <td>45.853</td>\n",
       "      <td>0.0</td>\n",
       "      <td>0.0</td>\n",
       "      <td>0.0</td>\n",
       "      <td>0.003</td>\n",
       "      <td>0.007</td>\n",
       "      <td>0.0</td>\n",
       "      <td>0.0</td>\n",
       "      <td>0.0</td>\n",
       "      <td>0.0</td>\n",
       "      <td>0.0</td>\n",
       "      <td>2018-05-24 14:03:22</td>\n",
       "      <td>0</td>\n",
       "    </tr>\n",
       "    <tr>\n",
       "      <th>23117</th>\n",
       "      <td>RDCC_Guest</td>\n",
       "      <td>1</td>\n",
       "      <td>1.000</td>\n",
       "      <td>0.0</td>\n",
       "      <td>0.0</td>\n",
       "      <td>0.0</td>\n",
       "      <td>0.001</td>\n",
       "      <td>0.000</td>\n",
       "      <td>0.0</td>\n",
       "      <td>0.0</td>\n",
       "      <td>0.0</td>\n",
       "      <td>0.0</td>\n",
       "      <td>0.0</td>\n",
       "      <td>2018-05-24 14:39:43</td>\n",
       "      <td>0</td>\n",
       "    </tr>\n",
       "    <tr>\n",
       "      <th>23167</th>\n",
       "      <td>RDCC_Guest</td>\n",
       "      <td>1</td>\n",
       "      <td>1.574</td>\n",
       "      <td>0.0</td>\n",
       "      <td>0.0</td>\n",
       "      <td>0.0</td>\n",
       "      <td>0.002</td>\n",
       "      <td>0.000</td>\n",
       "      <td>0.0</td>\n",
       "      <td>0.0</td>\n",
       "      <td>0.0</td>\n",
       "      <td>0.0</td>\n",
       "      <td>0.0</td>\n",
       "      <td>2018-05-24 14:47:30</td>\n",
       "      <td>0</td>\n",
       "    </tr>\n",
       "    <tr>\n",
       "      <th>23197</th>\n",
       "      <td>RDCC_Guest</td>\n",
       "      <td>1</td>\n",
       "      <td>1.000</td>\n",
       "      <td>0.0</td>\n",
       "      <td>0.0</td>\n",
       "      <td>0.0</td>\n",
       "      <td>0.001</td>\n",
       "      <td>0.000</td>\n",
       "      <td>0.0</td>\n",
       "      <td>0.0</td>\n",
       "      <td>0.0</td>\n",
       "      <td>0.0</td>\n",
       "      <td>0.0</td>\n",
       "      <td>2018-05-24 14:51:41</td>\n",
       "      <td>0</td>\n",
       "    </tr>\n",
       "  </tbody>\n",
       "</table>\n",
       "<p>519 rows × 15 columns</p>\n",
       "</div>"
      ],
      "text/plain": [
       "                      ssid  channel  transmission_rate  reception_rate  \\\n",
       "7924           eir16775415        3              1.071             0.0   \n",
       "7960           eir16775415        3              1.000             0.0   \n",
       "7972   STARBUCKS-FREE-WIFI        1              3.386             0.0   \n",
       "8063           eir92591853        4              1.223             0.0   \n",
       "8066           eir92591853        4              1.075             0.0   \n",
       "...                    ...      ...                ...             ...   \n",
       "22678                 bell        8             59.916             0.0   \n",
       "22840                 bell        8             45.853             0.0   \n",
       "23117           RDCC_Guest        1              1.000             0.0   \n",
       "23167           RDCC_Guest        1              1.574             0.0   \n",
       "23197           RDCC_Guest        1              1.000             0.0   \n",
       "\n",
       "       bandwidth_economy_tx  bandwidth_economy_rx  throughput_tx  \\\n",
       "7924                    0.0                   0.0          0.001   \n",
       "7960                    0.0                   0.0          0.001   \n",
       "7972                    0.0                   0.0          0.002   \n",
       "8063                    0.0                   0.0          0.003   \n",
       "8066                    0.0                   0.0          0.001   \n",
       "...                     ...                   ...            ...   \n",
       "22678                   0.0                   0.0          0.001   \n",
       "22840                   0.0                   0.0          0.003   \n",
       "23117                   0.0                   0.0          0.001   \n",
       "23167                   0.0                   0.0          0.002   \n",
       "23197                   0.0                   0.0          0.001   \n",
       "\n",
       "       throughput_rx  frames_tx_data  frames_tx_fail_data  frames_rx_data  \\\n",
       "7924           0.000             0.0                  0.0             0.0   \n",
       "7960           0.000             0.0                  0.0             0.0   \n",
       "7972           0.000             0.0                  0.0             0.0   \n",
       "8063           0.000             0.0                  0.0             0.0   \n",
       "8066           0.000             0.0                  0.0             0.0   \n",
       "...              ...             ...                  ...             ...   \n",
       "22678          0.000             0.0                  0.0             0.0   \n",
       "22840          0.007             0.0                  0.0             0.0   \n",
       "23117          0.000             0.0                  0.0             0.0   \n",
       "23167          0.000             0.0                  0.0             0.0   \n",
       "23197          0.000             0.0                  0.0             0.0   \n",
       "\n",
       "       frames_rx_fail_data  bytes_rx_data          created_at  Rated  \n",
       "7924                   0.0            0.0 2018-05-22 06:14:48      0  \n",
       "7960                   0.0            0.0 2018-05-22 06:31:31      0  \n",
       "7972                   0.0            0.0 2018-05-22 06:37:22      0  \n",
       "8063                   0.0            0.0 2018-05-22 07:18:27      0  \n",
       "8066                   0.0            0.0 2018-05-22 07:18:33      0  \n",
       "...                    ...            ...                 ...    ...  \n",
       "22678                  0.0            0.0 2018-05-24 13:37:18      0  \n",
       "22840                  0.0            0.0 2018-05-24 14:03:22      0  \n",
       "23117                  0.0            0.0 2018-05-24 14:39:43      0  \n",
       "23167                  0.0            0.0 2018-05-24 14:47:30      0  \n",
       "23197                  0.0            0.0 2018-05-24 14:51:41      0  \n",
       "\n",
       "[519 rows x 15 columns]"
      ]
     },
     "execution_count": 150,
     "metadata": {},
     "output_type": "execute_result"
    }
   ],
   "source": [
    "traffic_cli_lim.fillna(0)"
   ]
  },
  {
   "cell_type": "markdown",
   "metadata": {},
   "source": [
    "### Segmentar los datos"
   ]
  },
  {
   "cell_type": "markdown",
   "metadata": {},
   "source": [
    " Obtenemos el valor máximo y mínimo de throughput_tx"
   ]
  },
  {
   "cell_type": "code",
   "execution_count": 151,
   "metadata": {},
   "outputs": [
    {
     "name": "stdout",
     "output_type": "stream",
     "text": [
      "trhoug_max es (Mbps) 0.048\n",
      "trhoug_min es (Mbps) 0.001\n",
      "0.047\n"
     ]
    }
   ],
   "source": [
    "val_min = traffic_cli_lim['throughput_tx'].min()\n",
    "val_max = traffic_cli_lim['throughput_tx'].max()\n",
    "\n",
    "print(\"trhoug_max es (Mbps)\", val_max)\n",
    "print(\"trhoug_min es (Mbps)\", val_min)\n",
    "\n",
    "intervalo = (val_max - val_min)\n",
    "print(intervalo)\n"
   ]
  },
  {
   "cell_type": "markdown",
   "metadata": {},
   "source": [
    "Obtenemos los intervalos del throughput_tx en función del % del MOS votado por los usuarios"
   ]
  },
  {
   "cell_type": "code",
   "execution_count": 152,
   "metadata": {},
   "outputs": [
    {
     "name": "stdout",
     "output_type": "stream",
     "text": [
      "0.00362\n",
      "0.01266\n",
      "0.02772\n",
      "0.0458\n",
      "0.04701\n"
     ]
    }
   ],
   "source": [
    "segmento1 = round(intervalo * frecuencia_qoe.iloc[0]['valores'], 5)\n",
    "segmento2 = round(segmento1 + intervalo * frecuencia_qoe.iloc[1]['valores'], 5)\n",
    "segmento3 = round(segmento2 + intervalo * frecuencia_qoe.iloc[2]['valores'], 5)\n",
    "segmento4 = round(segmento3 + intervalo * frecuencia_qoe.iloc[3]['valores'], 5)\n",
    "segmento5 = round(segmento4 + intervalo * frecuencia_qoe.iloc[4]['valores'], 5)\n",
    "print(segmento1)\n",
    "print(segmento2)\n",
    "print(segmento3)\n",
    "print(segmento4)\n",
    "print(segmento5)\n",
    "\n",
    "\n"
   ]
  },
  {
   "cell_type": "markdown",
   "metadata": {},
   "source": [
    "Reseteanos el índice."
   ]
  },
  {
   "cell_type": "code",
   "execution_count": 153,
   "metadata": {},
   "outputs": [
    {
     "data": {
      "text/html": [
       "<div>\n",
       "<style scoped>\n",
       "    .dataframe tbody tr th:only-of-type {\n",
       "        vertical-align: middle;\n",
       "    }\n",
       "\n",
       "    .dataframe tbody tr th {\n",
       "        vertical-align: top;\n",
       "    }\n",
       "\n",
       "    .dataframe thead th {\n",
       "        text-align: right;\n",
       "    }\n",
       "</style>\n",
       "<table border=\"1\" class=\"dataframe\">\n",
       "  <thead>\n",
       "    <tr style=\"text-align: right;\">\n",
       "      <th></th>\n",
       "      <th>ssid</th>\n",
       "      <th>channel</th>\n",
       "      <th>transmission_rate</th>\n",
       "      <th>reception_rate</th>\n",
       "      <th>bandwidth_economy_tx</th>\n",
       "      <th>bandwidth_economy_rx</th>\n",
       "      <th>throughput_tx</th>\n",
       "      <th>throughput_rx</th>\n",
       "      <th>frames_tx_data</th>\n",
       "      <th>frames_tx_fail_data</th>\n",
       "      <th>frames_rx_data</th>\n",
       "      <th>frames_rx_fail_data</th>\n",
       "      <th>bytes_rx_data</th>\n",
       "      <th>created_at</th>\n",
       "      <th>Rated</th>\n",
       "    </tr>\n",
       "  </thead>\n",
       "  <tbody>\n",
       "    <tr>\n",
       "      <th>0</th>\n",
       "      <td>eir16775415</td>\n",
       "      <td>3</td>\n",
       "      <td>1.071</td>\n",
       "      <td>NaN</td>\n",
       "      <td>NaN</td>\n",
       "      <td>NaN</td>\n",
       "      <td>0.001</td>\n",
       "      <td>0.0</td>\n",
       "      <td>NaN</td>\n",
       "      <td>NaN</td>\n",
       "      <td>NaN</td>\n",
       "      <td>NaN</td>\n",
       "      <td>NaN</td>\n",
       "      <td>2018-05-22 06:14:48</td>\n",
       "      <td>None</td>\n",
       "    </tr>\n",
       "    <tr>\n",
       "      <th>1</th>\n",
       "      <td>eir16775415</td>\n",
       "      <td>3</td>\n",
       "      <td>1.000</td>\n",
       "      <td>NaN</td>\n",
       "      <td>NaN</td>\n",
       "      <td>NaN</td>\n",
       "      <td>0.001</td>\n",
       "      <td>0.0</td>\n",
       "      <td>NaN</td>\n",
       "      <td>NaN</td>\n",
       "      <td>NaN</td>\n",
       "      <td>NaN</td>\n",
       "      <td>NaN</td>\n",
       "      <td>2018-05-22 06:31:31</td>\n",
       "      <td>None</td>\n",
       "    </tr>\n",
       "    <tr>\n",
       "      <th>2</th>\n",
       "      <td>STARBUCKS-FREE-WIFI</td>\n",
       "      <td>1</td>\n",
       "      <td>3.386</td>\n",
       "      <td>NaN</td>\n",
       "      <td>NaN</td>\n",
       "      <td>NaN</td>\n",
       "      <td>0.002</td>\n",
       "      <td>0.0</td>\n",
       "      <td>NaN</td>\n",
       "      <td>NaN</td>\n",
       "      <td>NaN</td>\n",
       "      <td>NaN</td>\n",
       "      <td>NaN</td>\n",
       "      <td>2018-05-22 06:37:22</td>\n",
       "      <td>None</td>\n",
       "    </tr>\n",
       "    <tr>\n",
       "      <th>3</th>\n",
       "      <td>eir92591853</td>\n",
       "      <td>4</td>\n",
       "      <td>1.223</td>\n",
       "      <td>NaN</td>\n",
       "      <td>NaN</td>\n",
       "      <td>NaN</td>\n",
       "      <td>0.003</td>\n",
       "      <td>0.0</td>\n",
       "      <td>NaN</td>\n",
       "      <td>NaN</td>\n",
       "      <td>NaN</td>\n",
       "      <td>NaN</td>\n",
       "      <td>NaN</td>\n",
       "      <td>2018-05-22 07:18:27</td>\n",
       "      <td>None</td>\n",
       "    </tr>\n",
       "    <tr>\n",
       "      <th>4</th>\n",
       "      <td>eir92591853</td>\n",
       "      <td>4</td>\n",
       "      <td>1.075</td>\n",
       "      <td>NaN</td>\n",
       "      <td>NaN</td>\n",
       "      <td>NaN</td>\n",
       "      <td>0.001</td>\n",
       "      <td>0.0</td>\n",
       "      <td>NaN</td>\n",
       "      <td>NaN</td>\n",
       "      <td>NaN</td>\n",
       "      <td>NaN</td>\n",
       "      <td>NaN</td>\n",
       "      <td>2018-05-22 07:18:33</td>\n",
       "      <td>None</td>\n",
       "    </tr>\n",
       "  </tbody>\n",
       "</table>\n",
       "</div>"
      ],
      "text/plain": [
       "                  ssid  channel  transmission_rate  reception_rate  \\\n",
       "0          eir16775415        3              1.071             NaN   \n",
       "1          eir16775415        3              1.000             NaN   \n",
       "2  STARBUCKS-FREE-WIFI        1              3.386             NaN   \n",
       "3          eir92591853        4              1.223             NaN   \n",
       "4          eir92591853        4              1.075             NaN   \n",
       "\n",
       "   bandwidth_economy_tx  bandwidth_economy_rx  throughput_tx  throughput_rx  \\\n",
       "0                   NaN                   NaN          0.001            0.0   \n",
       "1                   NaN                   NaN          0.001            0.0   \n",
       "2                   NaN                   NaN          0.002            0.0   \n",
       "3                   NaN                   NaN          0.003            0.0   \n",
       "4                   NaN                   NaN          0.001            0.0   \n",
       "\n",
       "   frames_tx_data  frames_tx_fail_data  frames_rx_data  frames_rx_fail_data  \\\n",
       "0             NaN                  NaN             NaN                  NaN   \n",
       "1             NaN                  NaN             NaN                  NaN   \n",
       "2             NaN                  NaN             NaN                  NaN   \n",
       "3             NaN                  NaN             NaN                  NaN   \n",
       "4             NaN                  NaN             NaN                  NaN   \n",
       "\n",
       "   bytes_rx_data          created_at Rated  \n",
       "0            NaN 2018-05-22 06:14:48  None  \n",
       "1            NaN 2018-05-22 06:31:31  None  \n",
       "2            NaN 2018-05-22 06:37:22  None  \n",
       "3            NaN 2018-05-22 07:18:27  None  \n",
       "4            NaN 2018-05-22 07:18:33  None  "
      ]
     },
     "execution_count": 153,
     "metadata": {},
     "output_type": "execute_result"
    }
   ],
   "source": [
    "traffic_cli_lim =traffic_cli_lim.reset_index(drop=True)\n",
    "traffic_cli_lim.head()"
   ]
  },
  {
   "cell_type": "markdown",
   "metadata": {},
   "source": [
    "Aplicamos la estimación de la QoE en función del throughput_tx"
   ]
  },
  {
   "cell_type": "code",
   "execution_count": 154,
   "metadata": {},
   "outputs": [],
   "source": [
    "for i, (_, valor) in enumerate(traffic_cli_lim['throughput_tx'].items()):\n",
    "    if (valor < segmento1):\n",
    "        traffic_cli_lim.loc[i,'Rated'] = 1\n",
    "    elif (valor >= segmento1) and (valor < segmento2):\n",
    "        traffic_cli_lim.loc[i,'Rated'] = 2\n",
    "    elif (valor >= segmento2) and (valor < segmento3):\n",
    "        traffic_cli_lim.loc[i,'Rated'] = 3\n",
    "    elif (valor >= segmento4) and (valor < segmento5):\n",
    "        traffic_cli_lim.loc[i,'Rated'] = 4\n",
    "    elif valor >= segmento5 :\n",
    "        traffic_cli_lim.loc[i,'Rated'] = 5\n",
    "\n",
    "    "
   ]
  },
  {
   "cell_type": "code",
   "execution_count": 155,
   "metadata": {},
   "outputs": [
    {
     "data": {
      "text/html": [
       "<div>\n",
       "<style scoped>\n",
       "    .dataframe tbody tr th:only-of-type {\n",
       "        vertical-align: middle;\n",
       "    }\n",
       "\n",
       "    .dataframe tbody tr th {\n",
       "        vertical-align: top;\n",
       "    }\n",
       "\n",
       "    .dataframe thead th {\n",
       "        text-align: right;\n",
       "    }\n",
       "</style>\n",
       "<table border=\"1\" class=\"dataframe\">\n",
       "  <thead>\n",
       "    <tr style=\"text-align: right;\">\n",
       "      <th></th>\n",
       "      <th>ssid</th>\n",
       "      <th>channel</th>\n",
       "      <th>transmission_rate</th>\n",
       "      <th>reception_rate</th>\n",
       "      <th>bandwidth_economy_tx</th>\n",
       "      <th>bandwidth_economy_rx</th>\n",
       "      <th>throughput_tx</th>\n",
       "      <th>throughput_rx</th>\n",
       "      <th>frames_tx_data</th>\n",
       "      <th>frames_tx_fail_data</th>\n",
       "      <th>frames_rx_data</th>\n",
       "      <th>frames_rx_fail_data</th>\n",
       "      <th>bytes_rx_data</th>\n",
       "      <th>created_at</th>\n",
       "      <th>Rated</th>\n",
       "    </tr>\n",
       "  </thead>\n",
       "  <tbody>\n",
       "    <tr>\n",
       "      <th>0</th>\n",
       "      <td>eir16775415</td>\n",
       "      <td>3</td>\n",
       "      <td>1.071</td>\n",
       "      <td>NaN</td>\n",
       "      <td>NaN</td>\n",
       "      <td>NaN</td>\n",
       "      <td>0.001</td>\n",
       "      <td>0.000</td>\n",
       "      <td>NaN</td>\n",
       "      <td>NaN</td>\n",
       "      <td>NaN</td>\n",
       "      <td>NaN</td>\n",
       "      <td>NaN</td>\n",
       "      <td>2018-05-22 06:14:48</td>\n",
       "      <td>1</td>\n",
       "    </tr>\n",
       "    <tr>\n",
       "      <th>1</th>\n",
       "      <td>eir16775415</td>\n",
       "      <td>3</td>\n",
       "      <td>1.000</td>\n",
       "      <td>NaN</td>\n",
       "      <td>NaN</td>\n",
       "      <td>NaN</td>\n",
       "      <td>0.001</td>\n",
       "      <td>0.000</td>\n",
       "      <td>NaN</td>\n",
       "      <td>NaN</td>\n",
       "      <td>NaN</td>\n",
       "      <td>NaN</td>\n",
       "      <td>NaN</td>\n",
       "      <td>2018-05-22 06:31:31</td>\n",
       "      <td>1</td>\n",
       "    </tr>\n",
       "    <tr>\n",
       "      <th>2</th>\n",
       "      <td>STARBUCKS-FREE-WIFI</td>\n",
       "      <td>1</td>\n",
       "      <td>3.386</td>\n",
       "      <td>NaN</td>\n",
       "      <td>NaN</td>\n",
       "      <td>NaN</td>\n",
       "      <td>0.002</td>\n",
       "      <td>0.000</td>\n",
       "      <td>NaN</td>\n",
       "      <td>NaN</td>\n",
       "      <td>NaN</td>\n",
       "      <td>NaN</td>\n",
       "      <td>NaN</td>\n",
       "      <td>2018-05-22 06:37:22</td>\n",
       "      <td>1</td>\n",
       "    </tr>\n",
       "    <tr>\n",
       "      <th>3</th>\n",
       "      <td>eir92591853</td>\n",
       "      <td>4</td>\n",
       "      <td>1.223</td>\n",
       "      <td>NaN</td>\n",
       "      <td>NaN</td>\n",
       "      <td>NaN</td>\n",
       "      <td>0.003</td>\n",
       "      <td>0.000</td>\n",
       "      <td>NaN</td>\n",
       "      <td>NaN</td>\n",
       "      <td>NaN</td>\n",
       "      <td>NaN</td>\n",
       "      <td>NaN</td>\n",
       "      <td>2018-05-22 07:18:27</td>\n",
       "      <td>1</td>\n",
       "    </tr>\n",
       "    <tr>\n",
       "      <th>4</th>\n",
       "      <td>eir92591853</td>\n",
       "      <td>4</td>\n",
       "      <td>1.075</td>\n",
       "      <td>NaN</td>\n",
       "      <td>NaN</td>\n",
       "      <td>NaN</td>\n",
       "      <td>0.001</td>\n",
       "      <td>0.000</td>\n",
       "      <td>NaN</td>\n",
       "      <td>NaN</td>\n",
       "      <td>NaN</td>\n",
       "      <td>NaN</td>\n",
       "      <td>NaN</td>\n",
       "      <td>2018-05-22 07:18:33</td>\n",
       "      <td>1</td>\n",
       "    </tr>\n",
       "    <tr>\n",
       "      <th>...</th>\n",
       "      <td>...</td>\n",
       "      <td>...</td>\n",
       "      <td>...</td>\n",
       "      <td>...</td>\n",
       "      <td>...</td>\n",
       "      <td>...</td>\n",
       "      <td>...</td>\n",
       "      <td>...</td>\n",
       "      <td>...</td>\n",
       "      <td>...</td>\n",
       "      <td>...</td>\n",
       "      <td>...</td>\n",
       "      <td>...</td>\n",
       "      <td>...</td>\n",
       "      <td>...</td>\n",
       "    </tr>\n",
       "    <tr>\n",
       "      <th>514</th>\n",
       "      <td>bell</td>\n",
       "      <td>8</td>\n",
       "      <td>59.916</td>\n",
       "      <td>NaN</td>\n",
       "      <td>NaN</td>\n",
       "      <td>NaN</td>\n",
       "      <td>0.001</td>\n",
       "      <td>0.000</td>\n",
       "      <td>NaN</td>\n",
       "      <td>NaN</td>\n",
       "      <td>NaN</td>\n",
       "      <td>NaN</td>\n",
       "      <td>NaN</td>\n",
       "      <td>2018-05-24 13:37:18</td>\n",
       "      <td>1</td>\n",
       "    </tr>\n",
       "    <tr>\n",
       "      <th>515</th>\n",
       "      <td>bell</td>\n",
       "      <td>8</td>\n",
       "      <td>45.853</td>\n",
       "      <td>NaN</td>\n",
       "      <td>NaN</td>\n",
       "      <td>NaN</td>\n",
       "      <td>0.003</td>\n",
       "      <td>0.007</td>\n",
       "      <td>NaN</td>\n",
       "      <td>NaN</td>\n",
       "      <td>NaN</td>\n",
       "      <td>NaN</td>\n",
       "      <td>NaN</td>\n",
       "      <td>2018-05-24 14:03:22</td>\n",
       "      <td>1</td>\n",
       "    </tr>\n",
       "    <tr>\n",
       "      <th>516</th>\n",
       "      <td>RDCC_Guest</td>\n",
       "      <td>1</td>\n",
       "      <td>1.000</td>\n",
       "      <td>NaN</td>\n",
       "      <td>NaN</td>\n",
       "      <td>NaN</td>\n",
       "      <td>0.001</td>\n",
       "      <td>0.000</td>\n",
       "      <td>NaN</td>\n",
       "      <td>NaN</td>\n",
       "      <td>NaN</td>\n",
       "      <td>NaN</td>\n",
       "      <td>NaN</td>\n",
       "      <td>2018-05-24 14:39:43</td>\n",
       "      <td>1</td>\n",
       "    </tr>\n",
       "    <tr>\n",
       "      <th>517</th>\n",
       "      <td>RDCC_Guest</td>\n",
       "      <td>1</td>\n",
       "      <td>1.574</td>\n",
       "      <td>NaN</td>\n",
       "      <td>NaN</td>\n",
       "      <td>NaN</td>\n",
       "      <td>0.002</td>\n",
       "      <td>0.000</td>\n",
       "      <td>NaN</td>\n",
       "      <td>NaN</td>\n",
       "      <td>NaN</td>\n",
       "      <td>NaN</td>\n",
       "      <td>NaN</td>\n",
       "      <td>2018-05-24 14:47:30</td>\n",
       "      <td>1</td>\n",
       "    </tr>\n",
       "    <tr>\n",
       "      <th>518</th>\n",
       "      <td>RDCC_Guest</td>\n",
       "      <td>1</td>\n",
       "      <td>1.000</td>\n",
       "      <td>NaN</td>\n",
       "      <td>NaN</td>\n",
       "      <td>NaN</td>\n",
       "      <td>0.001</td>\n",
       "      <td>0.000</td>\n",
       "      <td>NaN</td>\n",
       "      <td>NaN</td>\n",
       "      <td>NaN</td>\n",
       "      <td>NaN</td>\n",
       "      <td>NaN</td>\n",
       "      <td>2018-05-24 14:51:41</td>\n",
       "      <td>1</td>\n",
       "    </tr>\n",
       "  </tbody>\n",
       "</table>\n",
       "<p>519 rows × 15 columns</p>\n",
       "</div>"
      ],
      "text/plain": [
       "                    ssid  channel  transmission_rate  reception_rate  \\\n",
       "0            eir16775415        3              1.071             NaN   \n",
       "1            eir16775415        3              1.000             NaN   \n",
       "2    STARBUCKS-FREE-WIFI        1              3.386             NaN   \n",
       "3            eir92591853        4              1.223             NaN   \n",
       "4            eir92591853        4              1.075             NaN   \n",
       "..                   ...      ...                ...             ...   \n",
       "514                 bell        8             59.916             NaN   \n",
       "515                 bell        8             45.853             NaN   \n",
       "516           RDCC_Guest        1              1.000             NaN   \n",
       "517           RDCC_Guest        1              1.574             NaN   \n",
       "518           RDCC_Guest        1              1.000             NaN   \n",
       "\n",
       "     bandwidth_economy_tx  bandwidth_economy_rx  throughput_tx  throughput_rx  \\\n",
       "0                     NaN                   NaN          0.001          0.000   \n",
       "1                     NaN                   NaN          0.001          0.000   \n",
       "2                     NaN                   NaN          0.002          0.000   \n",
       "3                     NaN                   NaN          0.003          0.000   \n",
       "4                     NaN                   NaN          0.001          0.000   \n",
       "..                    ...                   ...            ...            ...   \n",
       "514                   NaN                   NaN          0.001          0.000   \n",
       "515                   NaN                   NaN          0.003          0.007   \n",
       "516                   NaN                   NaN          0.001          0.000   \n",
       "517                   NaN                   NaN          0.002          0.000   \n",
       "518                   NaN                   NaN          0.001          0.000   \n",
       "\n",
       "     frames_tx_data  frames_tx_fail_data  frames_rx_data  frames_rx_fail_data  \\\n",
       "0               NaN                  NaN             NaN                  NaN   \n",
       "1               NaN                  NaN             NaN                  NaN   \n",
       "2               NaN                  NaN             NaN                  NaN   \n",
       "3               NaN                  NaN             NaN                  NaN   \n",
       "4               NaN                  NaN             NaN                  NaN   \n",
       "..              ...                  ...             ...                  ...   \n",
       "514             NaN                  NaN             NaN                  NaN   \n",
       "515             NaN                  NaN             NaN                  NaN   \n",
       "516             NaN                  NaN             NaN                  NaN   \n",
       "517             NaN                  NaN             NaN                  NaN   \n",
       "518             NaN                  NaN             NaN                  NaN   \n",
       "\n",
       "     bytes_rx_data          created_at Rated  \n",
       "0              NaN 2018-05-22 06:14:48     1  \n",
       "1              NaN 2018-05-22 06:31:31     1  \n",
       "2              NaN 2018-05-22 06:37:22     1  \n",
       "3              NaN 2018-05-22 07:18:27     1  \n",
       "4              NaN 2018-05-22 07:18:33     1  \n",
       "..             ...                 ...   ...  \n",
       "514            NaN 2018-05-24 13:37:18     1  \n",
       "515            NaN 2018-05-24 14:03:22     1  \n",
       "516            NaN 2018-05-24 14:39:43     1  \n",
       "517            NaN 2018-05-24 14:47:30     1  \n",
       "518            NaN 2018-05-24 14:51:41     1  \n",
       "\n",
       "[519 rows x 15 columns]"
      ]
     },
     "execution_count": 155,
     "metadata": {},
     "output_type": "execute_result"
    }
   ],
   "source": [
    "traffic_cli_lim"
   ]
  },
  {
   "cell_type": "markdown",
   "metadata": {},
   "source": [
    "Se limpian filas con valores NaN"
   ]
  },
  {
   "cell_type": "code",
   "execution_count": 156,
   "metadata": {},
   "outputs": [],
   "source": [
    "\n",
    "traffic_cli_lim.dropna(\n",
    "    axis=0,\n",
    "    how='any',\n",
    "    thresh=None,\n",
    "    subset=None,\n",
    "    inplace=True\n",
    ")"
   ]
  },
  {
   "cell_type": "code",
   "execution_count": 157,
   "metadata": {},
   "outputs": [
    {
     "name": "stdout",
     "output_type": "stream",
     "text": [
      "0\n"
     ]
    }
   ],
   "source": [
    "print(len(traffic_cli_lim))"
   ]
  },
  {
   "cell_type": "markdown",
   "metadata": {},
   "source": [
    "Contabilizamos los valores del MOS obtenido"
   ]
  },
  {
   "cell_type": "code",
   "execution_count": 158,
   "metadata": {},
   "outputs": [
    {
     "data": {
      "text/plain": [
       "Series([], Name: Rated, dtype: int64)"
      ]
     },
     "execution_count": 158,
     "metadata": {},
     "output_type": "execute_result"
    }
   ],
   "source": [
    "traffic_cli_lim['Rated'].value_counts()"
   ]
  },
  {
   "cell_type": "code",
   "execution_count": 159,
   "metadata": {},
   "outputs": [
    {
     "data": {
      "text/html": [
       "<div>\n",
       "<style scoped>\n",
       "    .dataframe tbody tr th:only-of-type {\n",
       "        vertical-align: middle;\n",
       "    }\n",
       "\n",
       "    .dataframe tbody tr th {\n",
       "        vertical-align: top;\n",
       "    }\n",
       "\n",
       "    .dataframe thead th {\n",
       "        text-align: right;\n",
       "    }\n",
       "</style>\n",
       "<table border=\"1\" class=\"dataframe\">\n",
       "  <thead>\n",
       "    <tr style=\"text-align: right;\">\n",
       "      <th></th>\n",
       "      <th>ssid</th>\n",
       "      <th>channel</th>\n",
       "      <th>transmission_rate</th>\n",
       "      <th>reception_rate</th>\n",
       "      <th>bandwidth_economy_tx</th>\n",
       "      <th>bandwidth_economy_rx</th>\n",
       "      <th>throughput_tx</th>\n",
       "      <th>throughput_rx</th>\n",
       "      <th>frames_tx_data</th>\n",
       "      <th>frames_tx_fail_data</th>\n",
       "      <th>frames_rx_data</th>\n",
       "      <th>frames_rx_fail_data</th>\n",
       "      <th>bytes_rx_data</th>\n",
       "      <th>created_at</th>\n",
       "      <th>Rated</th>\n",
       "    </tr>\n",
       "  </thead>\n",
       "  <tbody>\n",
       "  </tbody>\n",
       "</table>\n",
       "</div>"
      ],
      "text/plain": [
       "Empty DataFrame\n",
       "Columns: [ssid, channel, transmission_rate, reception_rate, bandwidth_economy_tx, bandwidth_economy_rx, throughput_tx, throughput_rx, frames_tx_data, frames_tx_fail_data, frames_rx_data, frames_rx_fail_data, bytes_rx_data, created_at, Rated]\n",
       "Index: []"
      ]
     },
     "execution_count": 159,
     "metadata": {},
     "output_type": "execute_result"
    }
   ],
   "source": [
    "traffic_cli_lim.head()"
   ]
  },
  {
   "cell_type": "markdown",
   "metadata": {},
   "source": [
    "# Árbol de decision"
   ]
  },
  {
   "cell_type": "markdown",
   "metadata": {},
   "source": [
    "A continuación se realizará una separación de la variable a predecir y las variables predictoras"
   ]
  },
  {
   "cell_type": "code",
   "execution_count": 160,
   "metadata": {},
   "outputs": [],
   "source": [
    "#variables predictoras\n",
    "x = traffic_cli_lim.iloc[:,3:13]\n",
    "#variable a predecir\n",
    "y = traffic_cli_lim.iloc[:,14]"
   ]
  },
  {
   "cell_type": "code",
   "execution_count": 161,
   "metadata": {},
   "outputs": [
    {
     "name": "stdout",
     "output_type": "stream",
     "text": [
      "<class 'pandas.core.frame.DataFrame'>\n"
     ]
    }
   ],
   "source": [
    "print(type(x))"
   ]
  },
  {
   "cell_type": "code",
   "execution_count": 162,
   "metadata": {},
   "outputs": [],
   "source": [
    "y=y.astype('int')"
   ]
  },
  {
   "cell_type": "markdown",
   "metadata": {},
   "source": [
    "Creación del conjunto de datos de entrenamiento y testeo"
   ]
  },
  {
   "cell_type": "code",
   "execution_count": 163,
   "metadata": {},
   "outputs": [
    {
     "ename": "ValueError",
     "evalue": "With n_samples=0, test_size=None and train_size=0.75, the resulting train set will be empty. Adjust any of the aforementioned parameters.",
     "output_type": "error",
     "traceback": [
      "\u001b[0;31m---------------------------------------------------------------------------\u001b[0m",
      "\u001b[0;31mValueError\u001b[0m                                Traceback (most recent call last)",
      "\u001b[1;32m/Users/jorgenchu/Desktop/CODE/QoE_QoS_Corr_NoAcademico.ipynb Celda 59\u001b[0m in \u001b[0;36m<cell line: 3>\u001b[0;34m()\u001b[0m\n\u001b[1;32m      <a href='vscode-notebook-cell:/Users/jorgenchu/Desktop/CODE/QoE_QoS_Corr_NoAcademico.ipynb#Y112sZmlsZQ%3D%3D?line=0'>1</a>\u001b[0m \u001b[39m# x_train e y_train para entrenamiento\u001b[39;00m\n\u001b[1;32m      <a href='vscode-notebook-cell:/Users/jorgenchu/Desktop/CODE/QoE_QoS_Corr_NoAcademico.ipynb#Y112sZmlsZQ%3D%3D?line=1'>2</a>\u001b[0m \u001b[39m#Y_test y Y_test para prueba\u001b[39;00m\n\u001b[0;32m----> <a href='vscode-notebook-cell:/Users/jorgenchu/Desktop/CODE/QoE_QoS_Corr_NoAcademico.ipynb#Y112sZmlsZQ%3D%3D?line=2'>3</a>\u001b[0m x_train, x_test, y_train, y_test \u001b[39m=\u001b[39m train_test_split(x,y, train_size \u001b[39m=\u001b[39;49m \u001b[39m0.75\u001b[39;49m, random_state \u001b[39m=\u001b[39;49m \u001b[39m0\u001b[39;49m)\n",
      "File \u001b[0;32m/opt/anaconda3/lib/python3.9/site-packages/sklearn/model_selection/_split.py:2420\u001b[0m, in \u001b[0;36mtrain_test_split\u001b[0;34m(test_size, train_size, random_state, shuffle, stratify, *arrays)\u001b[0m\n\u001b[1;32m   2417\u001b[0m arrays \u001b[39m=\u001b[39m indexable(\u001b[39m*\u001b[39marrays)\n\u001b[1;32m   2419\u001b[0m n_samples \u001b[39m=\u001b[39m _num_samples(arrays[\u001b[39m0\u001b[39m])\n\u001b[0;32m-> 2420\u001b[0m n_train, n_test \u001b[39m=\u001b[39m _validate_shuffle_split(\n\u001b[1;32m   2421\u001b[0m     n_samples, test_size, train_size, default_test_size\u001b[39m=\u001b[39;49m\u001b[39m0.25\u001b[39;49m\n\u001b[1;32m   2422\u001b[0m )\n\u001b[1;32m   2424\u001b[0m \u001b[39mif\u001b[39;00m shuffle \u001b[39mis\u001b[39;00m \u001b[39mFalse\u001b[39;00m:\n\u001b[1;32m   2425\u001b[0m     \u001b[39mif\u001b[39;00m stratify \u001b[39mis\u001b[39;00m \u001b[39mnot\u001b[39;00m \u001b[39mNone\u001b[39;00m:\n",
      "File \u001b[0;32m/opt/anaconda3/lib/python3.9/site-packages/sklearn/model_selection/_split.py:2098\u001b[0m, in \u001b[0;36m_validate_shuffle_split\u001b[0;34m(n_samples, test_size, train_size, default_test_size)\u001b[0m\n\u001b[1;32m   2095\u001b[0m n_train, n_test \u001b[39m=\u001b[39m \u001b[39mint\u001b[39m(n_train), \u001b[39mint\u001b[39m(n_test)\n\u001b[1;32m   2097\u001b[0m \u001b[39mif\u001b[39;00m n_train \u001b[39m==\u001b[39m \u001b[39m0\u001b[39m:\n\u001b[0;32m-> 2098\u001b[0m     \u001b[39mraise\u001b[39;00m \u001b[39mValueError\u001b[39;00m(\n\u001b[1;32m   2099\u001b[0m         \u001b[39m\"\u001b[39m\u001b[39mWith n_samples=\u001b[39m\u001b[39m{}\u001b[39;00m\u001b[39m, test_size=\u001b[39m\u001b[39m{}\u001b[39;00m\u001b[39m and train_size=\u001b[39m\u001b[39m{}\u001b[39;00m\u001b[39m, the \u001b[39m\u001b[39m\"\u001b[39m\n\u001b[1;32m   2100\u001b[0m         \u001b[39m\"\u001b[39m\u001b[39mresulting train set will be empty. Adjust any of the \u001b[39m\u001b[39m\"\u001b[39m\n\u001b[1;32m   2101\u001b[0m         \u001b[39m\"\u001b[39m\u001b[39maforementioned parameters.\u001b[39m\u001b[39m\"\u001b[39m\u001b[39m.\u001b[39mformat(n_samples, test_size, train_size)\n\u001b[1;32m   2102\u001b[0m     )\n\u001b[1;32m   2104\u001b[0m \u001b[39mreturn\u001b[39;00m n_train, n_test\n",
      "\u001b[0;31mValueError\u001b[0m: With n_samples=0, test_size=None and train_size=0.75, the resulting train set will be empty. Adjust any of the aforementioned parameters."
     ]
    }
   ],
   "source": [
    "\n",
    "\n",
    "# x_train e y_train para entrenamiento\n",
    "#Y_test y Y_test para prueba\n",
    "x_train, x_test, y_train, y_test = train_test_split(x,y, train_size = 0.75, random_state = 0)"
   ]
  },
  {
   "cell_type": "code",
   "execution_count": null,
   "metadata": {},
   "outputs": [],
   "source": [
    "\n",
    "#llamada al constructor del arbor de decision\n",
    "arbol = DecisionTreeClassifier( max_depth = 4)\n",
    "#Entrenamiento del modelo\n",
    "arbol_qoe = arbol.fit(x_train, y_train)"
   ]
  },
  {
   "cell_type": "code",
   "execution_count": null,
   "metadata": {},
   "outputs": [
    {
     "name": "stdout",
     "output_type": "stream",
     "text": [
      "[3 2 3 ... 1 2 3]\n"
     ]
    }
   ],
   "source": [
    "y_str =str(y.values)\n",
    "print(y_str)"
   ]
  },
  {
   "cell_type": "markdown",
   "metadata": {},
   "source": [
    "Visualización del arbol de decisión"
   ]
  },
  {
   "cell_type": "code",
   "execution_count": null,
   "metadata": {},
   "outputs": [
    {
     "data": {
      "image/png": "[encoded data removed]",
      "text/plain": [
       "<Figure size 1800x1440 with 1 Axes>"
      ]
     },
     "metadata": {},
     "output_type": "display_data"
    }
   ],
   "source": [
    "fig = plt.figure(figsize =(25,20))\n",
    "tree.plot_tree(arbol_qoe, feature_names =list(x.columns.values), class_names = list(y_str), filled=True)\n",
    "\n",
    "plt.show()"
   ]
  },
  {
   "cell_type": "code",
   "execution_count": null,
   "metadata": {},
   "outputs": [
    {
     "data": {
      "image/png": "[encoded data removed]",
      "text/plain": [
       "<Figure size 432x288 with 1 Axes>"
      ]
     },
     "metadata": {},
     "output_type": "display_data"
    }
   ],
   "source": [
    "y_pred = arbol_qoe.predict(x_test)\n",
    "\n",
    "mymodel = np.poly1d(np.polyfit(x_test[\"throughput_tx\"], y_pred, 3))\n",
    "myline = np.linspace(1, 22, 100)\n",
    "plt.scatter(x[\"throughput_tx\"], y)\n",
    "\n",
    "plt.show()\n",
    "\n"
   ]
  },
  {
   "cell_type": "markdown",
   "metadata": {},
   "source": [
    "### Antes del entrenamiento"
   ]
  },
  {
   "cell_type": "code",
   "execution_count": null,
   "metadata": {},
   "outputs": [
    {
     "data": {
      "text/plain": [
       "[Text(0, 0.5, 'MOS')]"
      ]
     },
     "execution_count": 68,
     "metadata": {},
     "output_type": "execute_result"
    },
    {
     "data": {
      "image/png": "[encoded data removed]",
      "text/plain": [
       "<Figure size 432x288 with 1 Axes>"
      ]
     },
     "metadata": {},
     "output_type": "display_data"
    }
   ],
   "source": [
    "plt.title(\"QoE en función del througput_tx (Eduroam)\")\n",
    "sns.regplot(x=x_train['throughput_tx'], y=y_train, data=traffic_cli_lim, order=3, ci=None).set(ylabel=\"MOS\")"
   ]
  },
  {
   "cell_type": "markdown",
   "metadata": {},
   "source": [
    "### Despues del entrenamiento\n"
   ]
  },
  {
   "cell_type": "code",
   "execution_count": null,
   "metadata": {},
   "outputs": [
    {
     "data": {
      "text/plain": [
       "Text(0.5, 1.0, 'Estimación QoE en función del througput_tx (Eduroam)')"
      ]
     },
     "execution_count": 69,
     "metadata": {},
     "output_type": "execute_result"
    },
    {
     "data": {
      "image/png": "[encoded data removed]",
      "text/plain": [
       "<Figure size 432x288 with 1 Axes>"
      ]
     },
     "metadata": {},
     "output_type": "display_data"
    }
   ],
   "source": [
    "sns.regplot(x=x_test['throughput_tx'], y=y_pred, data=traffic_cli_lim, order=3, ci=None).set(ylabel=\"MOS\")\n",
    "plt.title(\"Estimación QoE en función del througput_tx (Eduroam)\")"
   ]
  }
 ],
 "metadata": {
  "kernelspec": {
   "display_name": "base",
   "language": "python",
   "name": "python3"
  },
  "language_info": {
   "codemirror_mode": {
    "name": "ipython",
    "version": 3
   },
   "file_extension": ".py",
   "mimetype": "text/x-python",
   "name": "python",
   "nbconvert_exporter": "python",
   "pygments_lexer": "ipython3",
   "version": "3.9.12"
  },
  "orig_nbformat": 4,
  "vscode": {
   "interpreter": {
    "hash": "40d3a090f54c6569ab1632332b64b2c03c39dcf918b08424e98f38b5ae0af88f"
   }
  }
 },
 "nbformat": 4,
 "nbformat_minor": 2
}
